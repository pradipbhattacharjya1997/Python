{
 "cells": [
  {
   "cell_type": "code",
   "execution_count": 1,
   "id": "7ccdd5de-6b86-476c-94cb-8cc316f655c8",
   "metadata": {},
   "outputs": [],
   "source": [
    "import numpy as np"
   ]
  },
  {
   "cell_type": "code",
   "execution_count": 3,
   "id": "9be0212e-d001-46f3-8486-f35ea13eb848",
   "metadata": {},
   "outputs": [
    {
     "data": {
      "text/plain": [
       "numpy.ndarray"
      ]
     },
     "execution_count": 3,
     "metadata": {},
     "output_type": "execute_result"
    }
   ],
   "source": [
    "arr= np.array([10,20,30,40])\n",
    "type(arr)"
   ]
  },
  {
   "cell_type": "code",
   "execution_count": 4,
   "id": "ae7b22c2-f7d2-4c71-8a4b-78bbfa632413",
   "metadata": {},
   "outputs": [
    {
     "data": {
      "text/plain": [
       "array([10, 20, 30, 40])"
      ]
     },
     "execution_count": 4,
     "metadata": {},
     "output_type": "execute_result"
    }
   ],
   "source": [
    "arr"
   ]
  },
  {
   "cell_type": "markdown",
   "id": "99124396-a405-41cf-abdb-d3706248fc73",
   "metadata": {},
   "source": [
    "slicing"
   ]
  },
  {
   "cell_type": "code",
   "execution_count": 13,
   "id": "e2b8b386-98ed-4fcd-9fb1-b425b357ffd2",
   "metadata": {},
   "outputs": [
    {
     "data": {
      "text/plain": [
       "array([[10, 20, 30, 40],\n",
       "       [50, 60, 70, 80]])"
      ]
     },
     "execution_count": 13,
     "metadata": {},
     "output_type": "execute_result"
    }
   ],
   "source": [
    "arr2= np.array([[10,20,30,40],[50,60,70,80]])\n",
    "arr2"
   ]
  },
  {
   "cell_type": "code",
   "execution_count": 14,
   "id": "6e7dc497-ddcf-4235-80f1-e98cb21c8888",
   "metadata": {},
   "outputs": [
    {
     "data": {
      "text/plain": [
       "array([[10, 20, 30, 40],\n",
       "       [50, 60, 70, 80]])"
      ]
     },
     "execution_count": 14,
     "metadata": {},
     "output_type": "execute_result"
    }
   ],
   "source": [
    "arr3= np.array([[10,20,30,40],[50,60,70,80],[20,40,60,80]])\n",
    "arr2"
   ]
  },
  {
   "cell_type": "code",
   "execution_count": 7,
   "id": "8e204a91-bec4-4385-952f-71e88e5c2125",
   "metadata": {},
   "outputs": [
    {
     "name": "stdout",
     "output_type": "stream",
     "text": [
      "[10 20 30]\n"
     ]
    }
   ],
   "source": [
    "print(arr[0:3])"
   ]
  },
  {
   "cell_type": "code",
   "execution_count": 8,
   "id": "1a4aac98-e72b-43eb-bc2f-4b80f2d88194",
   "metadata": {},
   "outputs": [
    {
     "data": {
      "text/plain": [
       "array([40])"
      ]
     },
     "execution_count": 8,
     "metadata": {},
     "output_type": "execute_result"
    }
   ],
   "source": [
    "arr[3:]"
   ]
  },
  {
   "cell_type": "code",
   "execution_count": 10,
   "id": "1025a30c-5d2a-4771-9c04-c84e96a5605c",
   "metadata": {},
   "outputs": [
    {
     "data": {
      "text/plain": [
       "array([30, 40])"
      ]
     },
     "execution_count": 10,
     "metadata": {},
     "output_type": "execute_result"
    }
   ],
   "source": [
    "arr[2:]"
   ]
  },
  {
   "cell_type": "code",
   "execution_count": 12,
   "id": "1c6d13f0-e930-4fb1-977f-67f599f837cc",
   "metadata": {},
   "outputs": [
    {
     "data": {
      "text/plain": [
       "array([10, 20])"
      ]
     },
     "execution_count": 12,
     "metadata": {},
     "output_type": "execute_result"
    }
   ],
   "source": [
    "arr[:2]"
   ]
  },
  {
   "cell_type": "code",
   "execution_count": 18,
   "id": "4270c0ff-4866-4e4e-98ca-2aab3dfe6635",
   "metadata": {},
   "outputs": [
    {
     "data": {
      "text/plain": [
       "array([[10, 20],\n",
       "       [50, 60]])"
      ]
     },
     "execution_count": 18,
     "metadata": {},
     "output_type": "execute_result"
    }
   ],
   "source": [
    "arr2[0:2,0:2]"
   ]
  },
  {
   "cell_type": "code",
   "execution_count": 21,
   "id": "cc1cca62-a2b8-48c2-975b-0cb0dbb27f61",
   "metadata": {},
   "outputs": [
    {
     "data": {
      "text/plain": [
       "array([70, 80])"
      ]
     },
     "execution_count": 21,
     "metadata": {},
     "output_type": "execute_result"
    }
   ],
   "source": [
    "arr2[1,2:4]"
   ]
  },
  {
   "cell_type": "code",
   "execution_count": 22,
   "id": "c75f8ba6-865e-425f-9edc-441cabf5c570",
   "metadata": {},
   "outputs": [
    {
     "data": {
      "text/plain": [
       "60"
      ]
     },
     "execution_count": 22,
     "metadata": {},
     "output_type": "execute_result"
    }
   ],
   "source": [
    "arr3[2,2]"
   ]
  },
  {
   "cell_type": "code",
   "execution_count": 26,
   "id": "397c545c-033f-4ee5-9e48-7255f909be22",
   "metadata": {},
   "outputs": [
    {
     "data": {
      "text/plain": [
       "(3, 4)"
      ]
     },
     "execution_count": 26,
     "metadata": {},
     "output_type": "execute_result"
    }
   ],
   "source": [
    "np.shape(arr3)"
   ]
  },
  {
   "cell_type": "code",
   "execution_count": 27,
   "id": "9bf4477e-6aa1-4fb6-8fc7-42d89ef274fc",
   "metadata": {},
   "outputs": [
    {
     "data": {
      "text/plain": [
       "12"
      ]
     },
     "execution_count": 27,
     "metadata": {},
     "output_type": "execute_result"
    }
   ],
   "source": [
    "np.size(arr3)"
   ]
  },
  {
   "cell_type": "code",
   "execution_count": 28,
   "id": "3a767f33-2f61-48a0-abf5-02257a9aa349",
   "metadata": {},
   "outputs": [
    {
     "data": {
      "text/plain": [
       "2"
      ]
     },
     "execution_count": 28,
     "metadata": {},
     "output_type": "execute_result"
    }
   ],
   "source": [
    "np.ndim(arr3)"
   ]
  },
  {
   "cell_type": "code",
   "execution_count": 29,
   "id": "36400fa1-7506-4522-b793-57c21e268859",
   "metadata": {},
   "outputs": [
    {
     "data": {
      "text/plain": [
       "dtype('int32')"
      ]
     },
     "execution_count": 29,
     "metadata": {},
     "output_type": "execute_result"
    }
   ],
   "source": [
    "arr.dtype"
   ]
  },
  {
   "cell_type": "markdown",
   "id": "5b6ac433-a180-4fcb-918e-5ff1d36f7785",
   "metadata": {},
   "source": [
    "Inspecting an Array"
   ]
  },
  {
   "cell_type": "code",
   "execution_count": 31,
   "id": "7e4229fb-d87b-4537-bbe5-f293e5f2f259",
   "metadata": {},
   "outputs": [
    {
     "name": "stdout",
     "output_type": "stream",
     "text": [
      "[30 40 20 40 30]\n",
      "(5,)\n"
     ]
    }
   ],
   "source": [
    "a =[30,40,20,40,30]\n",
    "arr = np.array(a)\n",
    "print(arr)\n",
    "print(arr.shape)"
   ]
  },
  {
   "cell_type": "code",
   "execution_count": 36,
   "id": "41581559-927c-4447-bd8e-b14bfa6642a6",
   "metadata": {},
   "outputs": [
    {
     "name": "stdout",
     "output_type": "stream",
     "text": [
      "[[30 40]\n",
      " [40 30]]\n",
      "(2, 2)\n",
      "2\n"
     ]
    }
   ],
   "source": [
    "b = [[30,40],[40,30]]\n",
    "arr = np.array(b)\n",
    "print(arr)\n",
    "print(arr.shape)\n",
    "print(len(arr))\n"
   ]
  },
  {
   "cell_type": "code",
   "execution_count": 40,
   "id": "5c707d50-fd6d-4b32-b8cc-21767ae7b7eb",
   "metadata": {},
   "outputs": [
    {
     "name": "stdout",
     "output_type": "stream",
     "text": [
      "[[30 40 40]\n",
      " [40 30 10]]\n",
      "(2, 3)\n",
      "2\n",
      "6\n",
      "<class 'numpy.ndarray'>\n",
      "int32\n",
      "[[30. 40. 40.]\n",
      " [40. 30. 10.]]\n"
     ]
    }
   ],
   "source": [
    "b = [[30,40,40],[40,30,10]]\n",
    "arr = np.array(b)\n",
    "print(arr)\n",
    "print(arr.shape)\n",
    "print(len(arr))\n",
    "print(np.size(arr))\n",
    "print(type(arr))\n",
    "print(arr.dtype)\n",
    "print(arr.astype(float))"
   ]
  },
  {
   "cell_type": "markdown",
   "id": "b8cf2806-ecf9-4055-ad3c-c955cb24f525",
   "metadata": {},
   "source": [
    "Mathematical Operations and Functions on Arrays"
   ]
  },
  {
   "cell_type": "code",
   "execution_count": 44,
   "id": "7f052de6-8bdd-4897-a1af-cde03d5abb2b",
   "metadata": {},
   "outputs": [
    {
     "name": "stdout",
     "output_type": "stream",
     "text": [
      "[60 60 70 40 30]\n",
      "[60 60 70 40 30]\n"
     ]
    }
   ],
   "source": [
    "a1 =np.array([30,40,60,20,10])\n",
    "b2 =np.array([30,20,10,20,20])\n",
    "print(a1+b2)\n",
    "print(np.add(a1,b2))"
   ]
  },
  {
   "cell_type": "code",
   "execution_count": 46,
   "id": "3bbed886-43a3-4056-aa24-0174f9e96f83",
   "metadata": {},
   "outputs": [
    {
     "name": "stdout",
     "output_type": "stream",
     "text": [
      "[[60 60]\n",
      " [70 40]]\n",
      "[[60 60]\n",
      " [70 40]]\n"
     ]
    }
   ],
   "source": [
    "a1 =np.array([[30,40],[60,20]])\n",
    "b2 =np.array([[30,20],[10,20]])\n",
    "print(a1+b2)\n",
    "print(np.add(a1,b2))"
   ]
  },
  {
   "cell_type": "code",
   "execution_count": 47,
   "id": "ff6a5d57-c20a-40f4-bb12-49b2c5093c34",
   "metadata": {},
   "outputs": [
    {
     "name": "stdout",
     "output_type": "stream",
     "text": [
      "[[ 0 20]\n",
      " [50  0]]\n",
      "[[ 0 20]\n",
      " [50  0]]\n"
     ]
    }
   ],
   "source": [
    "a1 =np.array([[30,40],[60,20]])\n",
    "b2 =np.array([[30,20],[10,20]])\n",
    "print(a1- b2)\n",
    "print(np.subtract(a1,b2))"
   ]
  },
  {
   "cell_type": "code",
   "execution_count": 49,
   "id": "fa96fcc1-8f2f-4847-9af6-7fe1ed103884",
   "metadata": {},
   "outputs": [
    {
     "name": "stdout",
     "output_type": "stream",
     "text": [
      "[[900 800]\n",
      " [600 400]]\n",
      "[[900 800]\n",
      " [600 400]]\n"
     ]
    }
   ],
   "source": [
    "a1 =np.array([[30,40],[60,20]])\n",
    "b2 =np.array([[30,20],[10,20]])\n",
    "print(a1*b2)\n",
    "print(np.multiply(a1,b2))"
   ]
  },
  {
   "cell_type": "code",
   "execution_count": 51,
   "id": "514a0c66-f67e-47dc-abf2-3422b9d7c981",
   "metadata": {},
   "outputs": [
    {
     "name": "stdout",
     "output_type": "stream",
     "text": [
      "[[1. 2.]\n",
      " [6. 1.]]\n",
      "[[1. 2.]\n",
      " [6. 1.]]\n"
     ]
    }
   ],
   "source": [
    "a1 =np.array([[30,40],[60,20]])\n",
    "b2 =np.array([[30,20],[10,20]])\n",
    "print(a1/b2)\n",
    "print(np.divide(a1,b2))"
   ]
  },
  {
   "cell_type": "code",
   "execution_count": 54,
   "id": "6f949d03-0f4f-460a-ad82-8772d8705255",
   "metadata": {},
   "outputs": [
    {
     "name": "stdout",
     "output_type": "stream",
     "text": [
      "[27 64  8  1]\n"
     ]
    }
   ],
   "source": [
    "x1 = np.array([3,4,2,1])\n",
    "x2 = np.array([3])\n",
    "print(np.power(x1,x2))"
   ]
  },
  {
   "cell_type": "code",
   "execution_count": 2,
   "id": "4fe7195c-c113-4e38-9ea5-4b9704fafd12",
   "metadata": {},
   "outputs": [
    {
     "name": "stdout",
     "output_type": "stream",
     "text": [
      "[5.19615242 8.         2.82842712 1.        ]\n"
     ]
    }
   ],
   "source": [
    "x1 = np.array([27,64,8,1])\n",
    "print(np.sqrt(x1))"
   ]
  },
  {
   "cell_type": "markdown",
   "id": "94a11d92-6a22-4a52-a17f-6f686340aefd",
   "metadata": {},
   "source": [
    "Combining and Splitting Arrays"
   ]
  },
  {
   "cell_type": "code",
   "execution_count": 3,
   "id": "3fa5054e-cdfc-400c-b13d-6ac8f2da068f",
   "metadata": {},
   "outputs": [
    {
     "name": "stdout",
     "output_type": "stream",
     "text": [
      "[30, 40, 50, 5, 5, 3]\n"
     ]
    }
   ],
   "source": [
    "a = [30,40,50]\n",
    "b =[5,5,3]\n",
    "print(a + b)"
   ]
  },
  {
   "cell_type": "code",
   "execution_count": 11,
   "id": "5b6730aa-6fe1-4b27-9a60-e182e9b2800b",
   "metadata": {},
   "outputs": [
    {
     "name": "stdout",
     "output_type": "stream",
     "text": [
      "[30 40 50  5  5  3]\n"
     ]
    }
   ],
   "source": [
    "#Concatenate\n",
    "arr1 = np.array([30,40,50])\n",
    "arr2 = np.array([5,5,3])\n",
    "print(np.concatenate([arr1,arr2]))"
   ]
  },
  {
   "cell_type": "code",
   "execution_count": 13,
   "id": "27b4c79e-0ea4-4790-97e3-1a34837f962c",
   "metadata": {},
   "outputs": [
    {
     "name": "stdout",
     "output_type": "stream",
     "text": [
      "[[30 40  5  5]\n",
      " [50 60  3  4]]\n"
     ]
    }
   ],
   "source": [
    "arr1 = np.array([[30,40],[50,60]])\n",
    "arr2 = np.array([[5,5],[3,4]])\n",
    "print(np.concatenate([arr1,arr2],axis = 1))"
   ]
  },
  {
   "cell_type": "code",
   "execution_count": 15,
   "id": "c4f5d766-c5bf-4edc-87e2-c23b480fcd7a",
   "metadata": {},
   "outputs": [
    {
     "name": "stdout",
     "output_type": "stream",
     "text": [
      "[[30 40  5  5]\n",
      " [50 60  3  4]]\n"
     ]
    }
   ],
   "source": [
    "print(np.hstack([arr1,arr2])) #horizontal concatenation"
   ]
  },
  {
   "cell_type": "code",
   "execution_count": 17,
   "id": "27944c75-fe25-420a-afad-6a308353edd5",
   "metadata": {},
   "outputs": [
    {
     "name": "stdout",
     "output_type": "stream",
     "text": [
      "[[30 40]\n",
      " [50 60]\n",
      " [ 5  5]\n",
      " [ 3  4]]\n"
     ]
    }
   ],
   "source": [
    "print(np.vstack([arr1,arr2])) #vertical concation"
   ]
  },
  {
   "cell_type": "code",
   "execution_count": 22,
   "id": "3d67a567-8cd0-41ea-b137-9d4bbf70e39d",
   "metadata": {},
   "outputs": [
    {
     "name": "stdout",
     "output_type": "stream",
     "text": [
      "[array([[20, 40, 30]]), array([[40, 10, 20]]), array([], shape=(0, 3), dtype=int32), array([], shape=(0, 3), dtype=int32), array([], shape=(0, 3), dtype=int32)]\n",
      "None\n"
     ]
    }
   ],
   "source": [
    "a =np.array([[20,40,30],[40,10,20]])\n",
    "b = print(np.array_split(a,5))\n",
    "print(b)"
   ]
  },
  {
   "cell_type": "markdown",
   "id": "589ea033-ebe6-4a8d-9f69-001347012bdf",
   "metadata": {},
   "source": [
    "Adding and Removing Elements in the Arrays"
   ]
  },
  {
   "cell_type": "code",
   "execution_count": 24,
   "id": "379f0321-83f8-4f06-87e1-233e1f41f4a0",
   "metadata": {},
   "outputs": [
    {
     "name": "stdout",
     "output_type": "stream",
     "text": [
      "[ 20  40  60  80  90 100]\n"
     ]
    }
   ],
   "source": [
    "a =np.array([20,40,60,80])\n",
    "print(np.append(a,[90,100]))"
   ]
  },
  {
   "cell_type": "code",
   "execution_count": 26,
   "id": "d080ce30-1a9f-4e6e-98d5-ecd9adf9ec14",
   "metadata": {},
   "outputs": [
    {
     "name": "stdout",
     "output_type": "stream",
     "text": [
      "[20 50 40 60 80]\n"
     ]
    }
   ],
   "source": [
    "print(np.insert(a,1,50)) #array,index,value"
   ]
  },
  {
   "cell_type": "code",
   "execution_count": 27,
   "id": "9cb66aac-16bd-4bfe-9902-90ebc298d726",
   "metadata": {},
   "outputs": [
    {
     "name": "stdout",
     "output_type": "stream",
     "text": [
      "[ 20  40  60  80  90 100]\n"
     ]
    }
   ],
   "source": [
    "a = np.array([[20,40],[60,80]])\n",
    "print(np.append(a,[90,100]))"
   ]
  },
  {
   "cell_type": "code",
   "execution_count": 28,
   "id": "26b1c48a-422b-41ab-8f4a-d24d81f4eb0a",
   "metadata": {},
   "outputs": [
    {
     "name": "stdout",
     "output_type": "stream",
     "text": [
      "[[20 40]\n",
      " [50 60]\n",
      " [60 80]]\n"
     ]
    }
   ],
   "source": [
    "print(np.insert(a,1,[50,60],axis = 0)) "
   ]
  },
  {
   "cell_type": "code",
   "execution_count": 29,
   "id": "119e6a2f-34ef-4f56-aa6c-dd941350e8fc",
   "metadata": {},
   "outputs": [
    {
     "name": "stdout",
     "output_type": "stream",
     "text": [
      "[[20 40]\n",
      " [50 50]\n",
      " [60 80]\n",
      " [50 50]]\n"
     ]
    }
   ],
   "source": [
    "print(np.insert(a,[1,2],[50],axis = 0))"
   ]
  },
  {
   "cell_type": "code",
   "execution_count": 30,
   "id": "9d42a481-caa5-4c57-bd41-e00556c1b3d4",
   "metadata": {},
   "outputs": [
    {
     "name": "stdout",
     "output_type": "stream",
     "text": [
      "[20 60 80]\n"
     ]
    }
   ],
   "source": [
    "print(np.delete(a,1))"
   ]
  },
  {
   "cell_type": "code",
   "execution_count": 31,
   "id": "a77a9a24-66d9-43b8-ace7-6f633b2699ff",
   "metadata": {},
   "outputs": [
    {
     "name": "stdout",
     "output_type": "stream",
     "text": [
      "[[20 40]\n",
      " [60 80]]\n",
      "\n",
      "[[20]\n",
      " [60]]\n"
     ]
    }
   ],
   "source": [
    "print(a)\n",
    "print()\n",
    "print(np.delete(a,1, axis = 1))"
   ]
  }
 ],
 "metadata": {
  "kernelspec": {
   "display_name": "Python 3 (ipykernel)",
   "language": "python",
   "name": "python3"
  },
  "language_info": {
   "codemirror_mode": {
    "name": "ipython",
    "version": 3
   },
   "file_extension": ".py",
   "mimetype": "text/x-python",
   "name": "python",
   "nbconvert_exporter": "python",
   "pygments_lexer": "ipython3",
   "version": "3.12.7"
  }
 },
 "nbformat": 4,
 "nbformat_minor": 5
}
