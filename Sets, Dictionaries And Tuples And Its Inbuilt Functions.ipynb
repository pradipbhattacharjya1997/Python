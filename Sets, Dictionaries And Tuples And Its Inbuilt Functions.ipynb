{
 "cells": [
  {
   "cell_type": "markdown",
   "id": "41760374-6c6e-4527-99f4-78c8974d4597",
   "metadata": {},
   "source": [
    "SETS"
   ]
  },
  {
   "cell_type": "code",
   "execution_count": 2,
   "id": "2536bb72-3800-470f-a7fe-4eae21eefe10",
   "metadata": {},
   "outputs": [
    {
     "name": "stdout",
     "output_type": "stream",
     "text": [
      "set()\n",
      "<class 'set'>\n"
     ]
    }
   ],
   "source": [
    "##Defining an empy set\n",
    "set_var= set()\n",
    "print(set_var)\n",
    "print(type(set_var))"
   ]
  },
  {
   "cell_type": "code",
   "execution_count": 6,
   "id": "cc0942af-53b5-4007-9c3e-388f4a519e95",
   "metadata": {},
   "outputs": [
    {
     "name": "stdout",
     "output_type": "stream",
     "text": [
      "{1, 2, 3, 4, 5}\n"
     ]
    }
   ],
   "source": [
    "type({1,2,3,4,5,'Krish'})\n",
    "print(set([1,2,3,4,5,5]))"
   ]
  },
  {
   "cell_type": "code",
   "execution_count": 7,
   "id": "ea9f4472-7d44-46db-810f-46c020eb2707",
   "metadata": {},
   "outputs": [
    {
     "name": "stdout",
     "output_type": "stream",
     "text": [
      "{'IronMan', 'Avengers', 'Hitman'}\n"
     ]
    },
    {
     "data": {
      "text/plain": [
       "set"
      ]
     },
     "execution_count": 7,
     "metadata": {},
     "output_type": "execute_result"
    }
   ],
   "source": [
    "set_var={\"Avengers\",\"IronMan\",\"Hitman\"}\n",
    "print(set_var)\n",
    "type(set_var)"
   ]
  },
  {
   "cell_type": "code",
   "execution_count": 8,
   "id": "f9b7d3f9-d8f7-463c-a9f0-10e343567754",
   "metadata": {},
   "outputs": [
    {
     "name": "stdout",
     "output_type": "stream",
     "text": [
      "IronMan\n",
      "Avengers\n",
      "Hitman\n"
     ]
    }
   ],
   "source": [
    "for i in set_var:\n",
    "    print(i)"
   ]
  },
  {
   "cell_type": "code",
   "execution_count": 15,
   "id": "f83c2ade-fefd-4817-b998-526ee3c31620",
   "metadata": {},
   "outputs": [
    {
     "name": "stdout",
     "output_type": "stream",
     "text": [
      "{1, 2, 3, 4, 6, 7}\n"
     ]
    }
   ],
   "source": [
    "set_1=set([4,2,3,1,6,7])\n",
    "print(set_1)"
   ]
  },
  {
   "cell_type": "code",
   "execution_count": 16,
   "id": "4908e6ca-de04-462a-88a2-ce2548afcaf9",
   "metadata": {},
   "outputs": [],
   "source": [
    "set_1.add(0)"
   ]
  },
  {
   "cell_type": "code",
   "execution_count": 17,
   "id": "40629228-615f-439f-94d7-9d1fb9bc37bb",
   "metadata": {},
   "outputs": [
    {
     "data": {
      "text/plain": [
       "{0, 1, 2, 3, 4, 6, 7}"
      ]
     },
     "execution_count": 17,
     "metadata": {},
     "output_type": "execute_result"
    }
   ],
   "source": [
    "set_1"
   ]
  },
  {
   "cell_type": "code",
   "execution_count": 9,
   "id": "18a3b41a-c005-4f2a-b1a0-02c98af01b09",
   "metadata": {},
   "outputs": [],
   "source": [
    "# Inbuilt function in sets\n",
    "set_var.add('krish')"
   ]
  },
  {
   "cell_type": "code",
   "execution_count": 13,
   "id": "d8325dc8-84c2-45b8-ae5b-f52c3622bd7b",
   "metadata": {},
   "outputs": [],
   "source": [
    "# Inbuilt function in sets\n",
    "set_var.add('Hulk')"
   ]
  },
  {
   "cell_type": "code",
   "execution_count": 14,
   "id": "2293bf0f-59c9-443f-8712-897c6f8bd4be",
   "metadata": {},
   "outputs": [
    {
     "data": {
      "text/plain": [
       "{'Avengers', 'Hitman', 'Hulk', 'IronMan', 'krish'}"
      ]
     },
     "execution_count": 14,
     "metadata": {},
     "output_type": "execute_result"
    }
   ],
   "source": [
    "set_var"
   ]
  },
  {
   "cell_type": "code",
   "execution_count": 30,
   "id": "ce4f3e2c-658e-4d98-b2e2-5406bc45514f",
   "metadata": {},
   "outputs": [],
   "source": [
    "set1={'Avengers', 'Hitman', 'IronMan'}\n",
    "set2={'Avengers', 'Hitman', 'Hulk2', 'IronMan'}"
   ]
  },
  {
   "cell_type": "code",
   "execution_count": 19,
   "id": "98a03ed7-def4-4b29-b532-c09eac9ab0ab",
   "metadata": {},
   "outputs": [
    {
     "data": {
      "text/plain": [
       "{'Avengers', 'Hitman', 'IronMan'}"
      ]
     },
     "execution_count": 19,
     "metadata": {},
     "output_type": "execute_result"
    }
   ],
   "source": [
    "set2.intersection(set1)"
   ]
  },
  {
   "cell_type": "code",
   "execution_count": 20,
   "id": "58ac58b4-d88e-4bd3-b949-4971e9f33a2a",
   "metadata": {},
   "outputs": [
    {
     "data": {
      "text/plain": [
       "{'Avengers', 'Hitman', 'Hulk2', 'IronMan'}"
      ]
     },
     "execution_count": 20,
     "metadata": {},
     "output_type": "execute_result"
    }
   ],
   "source": [
    "set2"
   ]
  },
  {
   "cell_type": "code",
   "execution_count": 27,
   "id": "c0502c56-4c55-4b1b-98fa-572863660341",
   "metadata": {},
   "outputs": [],
   "source": [
    "set2.intersection_update(set1)"
   ]
  },
  {
   "cell_type": "code",
   "execution_count": 25,
   "id": "322f98d9-3038-400a-9ca5-b8f5cc3564f2",
   "metadata": {},
   "outputs": [
    {
     "data": {
      "text/plain": [
       "{'Hulk2'}"
      ]
     },
     "execution_count": 25,
     "metadata": {},
     "output_type": "execute_result"
    }
   ],
   "source": [
    "#Difference\n",
    "set2.difference(set1)"
   ]
  },
  {
   "cell_type": "code",
   "execution_count": 31,
   "id": "55444018-3625-4fe7-82eb-909910cf47cc",
   "metadata": {},
   "outputs": [],
   "source": [
    "#Difference update\n",
    "set2.difference_update(set1)"
   ]
  },
  {
   "cell_type": "code",
   "execution_count": 32,
   "id": "5cf9a539-5746-446d-b651-9c20f121a35b",
   "metadata": {},
   "outputs": [
    {
     "name": "stdout",
     "output_type": "stream",
     "text": [
      "{'Hulk2'}\n"
     ]
    }
   ],
   "source": [
    "print(set2)"
   ]
  },
  {
   "cell_type": "code",
   "execution_count": 33,
   "id": "1b16823f-4848-4e42-8350-325226853baa",
   "metadata": {},
   "outputs": [],
   "source": [
    "set1={'Avengers', 'Hitman', 'IronMan'}\n",
    "set2={'Avengers', 'Hitman', 'Hulk2', 'IronMan'}"
   ]
  },
  {
   "cell_type": "code",
   "execution_count": 34,
   "id": "2caa33a0-fc87-44d7-8136-dc483cfcee5a",
   "metadata": {},
   "outputs": [
    {
     "data": {
      "text/plain": [
       "False"
      ]
     },
     "execution_count": 34,
     "metadata": {},
     "output_type": "execute_result"
    }
   ],
   "source": [
    "set1.issuperset(set2)"
   ]
  },
  {
   "cell_type": "code",
   "execution_count": 35,
   "id": "8af39751-bd48-4b16-ab0c-8d253b05794a",
   "metadata": {},
   "outputs": [
    {
     "data": {
      "text/plain": [
       "True"
      ]
     },
     "execution_count": 35,
     "metadata": {},
     "output_type": "execute_result"
    }
   ],
   "source": [
    "set2.issuperset(set1)"
   ]
  },
  {
   "cell_type": "markdown",
   "id": "1b591d72-d009-4990-86b5-16c86008f099",
   "metadata": {},
   "source": [
    "Dictionaries\n"
   ]
  },
  {
   "cell_type": "code",
   "execution_count": 36,
   "id": "6205169e-84ec-465f-a6af-ad31aed6a30c",
   "metadata": {},
   "outputs": [
    {
     "data": {
      "text/plain": [
       "dict"
      ]
     },
     "execution_count": 36,
     "metadata": {},
     "output_type": "execute_result"
    }
   ],
   "source": [
    "type({1:\"krish\"})"
   ]
  },
  {
   "cell_type": "code",
   "execution_count": 38,
   "id": "21158ae4-026d-433b-abec-9bd9dffbfd2a",
   "metadata": {},
   "outputs": [
    {
     "data": {
      "text/plain": [
       "{'name': 'Krish', 'age': 31, 'last_name': 'Naik'}"
      ]
     },
     "execution_count": 38,
     "metadata": {},
     "output_type": "execute_result"
    }
   ],
   "source": [
    "dict(name=\"Krish\",age=31,last_name=\"Naik\")"
   ]
  },
  {
   "cell_type": "code",
   "execution_count": 39,
   "id": "5dc1942a-8fa6-495d-a692-f4f1562068f3",
   "metadata": {},
   "outputs": [],
   "source": [
    "## Let create a dictionary\n",
    "\n",
    "my_disct={\"Car1\":\"Audi\",\"Car2\":\"BMW\",\"Car3\":\"Mercidies Benz\"}"
   ]
  },
  {
   "cell_type": "code",
   "execution_count": 40,
   "id": "dd408e74-5115-45b4-a795-76fdcf0dd492",
   "metadata": {},
   "outputs": [
    {
     "data": {
      "text/plain": [
       "dict"
      ]
     },
     "execution_count": 40,
     "metadata": {},
     "output_type": "execute_result"
    }
   ],
   "source": [
    "type(my_disct)"
   ]
  },
  {
   "cell_type": "code",
   "execution_count": 41,
   "id": "a706c284-4ed3-4179-8b63-86f58edb606c",
   "metadata": {},
   "outputs": [
    {
     "data": {
      "text/plain": [
       "'Audi'"
      ]
     },
     "execution_count": 41,
     "metadata": {},
     "output_type": "execute_result"
    }
   ],
   "source": [
    "#Access the item values based on keys\n",
    "my_disct['Car1']"
   ]
  },
  {
   "cell_type": "code",
   "execution_count": 42,
   "id": "0fbc11a2-8214-4078-a18d-4ebd9bf67142",
   "metadata": {},
   "outputs": [
    {
     "data": {
      "text/plain": [
       "'Mercidies Benz'"
      ]
     },
     "execution_count": 42,
     "metadata": {},
     "output_type": "execute_result"
    }
   ],
   "source": [
    "my_disct['Car3']"
   ]
  },
  {
   "cell_type": "code",
   "execution_count": 44,
   "id": "a07df0d6-102a-4f4c-ac19-61db3bc90708",
   "metadata": {},
   "outputs": [
    {
     "data": {
      "text/plain": [
       "dict_items([('Car1', 'Audi'), ('Car2', 'BMW'), ('Car3', 'Mercidies Benz')])"
      ]
     },
     "execution_count": 44,
     "metadata": {},
     "output_type": "execute_result"
    }
   ],
   "source": [
    "my_disct.items()"
   ]
  },
  {
   "cell_type": "code",
   "execution_count": 45,
   "id": "1c37d232-9368-4da9-835f-ae1df64262b3",
   "metadata": {},
   "outputs": [
    {
     "data": {
      "text/plain": [
       "dict_values(['Audi', 'BMW', 'Mercidies Benz'])"
      ]
     },
     "execution_count": 45,
     "metadata": {},
     "output_type": "execute_result"
    }
   ],
   "source": [
    "my_disct.values()"
   ]
  },
  {
   "cell_type": "code",
   "execution_count": 51,
   "id": "a89b6f30-cd1b-432a-9b03-887ef597a799",
   "metadata": {},
   "outputs": [
    {
     "name": "stdout",
     "output_type": "stream",
     "text": [
      "Car1\n",
      "Car2\n",
      "Car3\n"
     ]
    }
   ],
   "source": [
    "# We can even loop throught the dictionaries keys\n",
    "\n",
    "for x in my_disct:\n",
    "    print(x)\n",
    "    "
   ]
  },
  {
   "cell_type": "code",
   "execution_count": 52,
   "id": "881adb91-f62d-4d46-a85c-9c3a5a2e8cbb",
   "metadata": {},
   "outputs": [
    {
     "name": "stdout",
     "output_type": "stream",
     "text": [
      "Audi\n",
      "BMW\n",
      "Mercidies Benz\n"
     ]
    }
   ],
   "source": [
    "# We can even loop throught the dictionaries values\n",
    "\n",
    "for x in my_disct.values():\n",
    "    print(x)"
   ]
  },
  {
   "cell_type": "code",
   "execution_count": 53,
   "id": "14685e45-1260-491f-bbee-7b56d22a2f76",
   "metadata": {},
   "outputs": [
    {
     "name": "stdout",
     "output_type": "stream",
     "text": [
      "('Car1', 'Audi')\n",
      "('Car2', 'BMW')\n",
      "('Car3', 'Mercidies Benz')\n"
     ]
    }
   ],
   "source": [
    "for x in my_disct.items():\n",
    "    print(x)"
   ]
  },
  {
   "cell_type": "code",
   "execution_count": 54,
   "id": "f1c33938-e93b-49e3-a1e8-d5a489dac76b",
   "metadata": {},
   "outputs": [],
   "source": [
    "#Adding items in Dictionaries\n",
    "my_disct[\"car4\"]=\"Ambassador\""
   ]
  },
  {
   "cell_type": "code",
   "execution_count": 55,
   "id": "5f9c1fd4-3a1b-413d-b4c3-3399d58c2000",
   "metadata": {},
   "outputs": [
    {
     "data": {
      "text/plain": [
       "{'Car1': 'Audi', 'Car2': 'BMW', 'Car3': 'Mercidies Benz', 'car4': 'Ambassador'}"
      ]
     },
     "execution_count": 55,
     "metadata": {},
     "output_type": "execute_result"
    }
   ],
   "source": [
    "my_disct"
   ]
  },
  {
   "cell_type": "markdown",
   "id": "5c9af3c4-809a-42a6-b174-0289ce1ecf36",
   "metadata": {},
   "source": [
    "NESTED DICTIONARY"
   ]
  },
  {
   "cell_type": "code",
   "execution_count": 56,
   "id": "b1006b2d-8b87-43ab-881b-d5bee8e12a51",
   "metadata": {},
   "outputs": [],
   "source": [
    "car1_model={'Mercedes':1960}\n",
    "car2_model={'Audi':1970}\n",
    "car3_model={'Ambassador':1980}\n",
    "\n",
    "car_type={'car1':car1_model,'car2':car2_model,'car3':car3_model}"
   ]
  },
  {
   "cell_type": "code",
   "execution_count": 57,
   "id": "e619c597-25d8-4bfd-b89a-1cf4b799ac7f",
   "metadata": {},
   "outputs": [
    {
     "name": "stdout",
     "output_type": "stream",
     "text": [
      "{'car1': {'Mercedes': 1960}, 'car2': {'Audi': 1970}, 'car3': {'Ambassador': 1980}}\n"
     ]
    }
   ],
   "source": [
    "print(car_type)"
   ]
  },
  {
   "cell_type": "code",
   "execution_count": 58,
   "id": "c4009683-f80a-4222-84d4-1e3928ea56e8",
   "metadata": {},
   "outputs": [
    {
     "data": {
      "text/plain": [
       "1960"
      ]
     },
     "execution_count": 58,
     "metadata": {},
     "output_type": "execute_result"
    }
   ],
   "source": [
    "car_type['car1']['Mercedes']"
   ]
  },
  {
   "cell_type": "markdown",
   "id": "e7698473-97fd-4785-b064-242e39f5adb5",
   "metadata": {},
   "source": [
    "TUPLES"
   ]
  },
  {
   "cell_type": "code",
   "execution_count": 59,
   "id": "dd981986-6892-4b76-b624-5bad518a64a7",
   "metadata": {},
   "outputs": [],
   "source": [
    "## Create an empty Tuples\n",
    "my_tuple=tuple()"
   ]
  },
  {
   "cell_type": "code",
   "execution_count": 60,
   "id": "705158e5-e92b-4c7f-9f29-1fa505b2e894",
   "metadata": {},
   "outputs": [
    {
     "data": {
      "text/plain": [
       "tuple"
      ]
     },
     "execution_count": 60,
     "metadata": {},
     "output_type": "execute_result"
    }
   ],
   "source": [
    "type(my_tuple)"
   ]
  },
  {
   "cell_type": "code",
   "execution_count": 61,
   "id": "96c83679-9d82-403e-8221-70935b271533",
   "metadata": {},
   "outputs": [],
   "source": [
    "my_tuple=(\"krish\",\"Ankur\",\"john\")"
   ]
  },
  {
   "cell_type": "code",
   "execution_count": 63,
   "id": "e841290e-6c40-4572-b608-d7497b5004c8",
   "metadata": {},
   "outputs": [
    {
     "name": "stdout",
     "output_type": "stream",
     "text": [
      "<class 'tuple'>\n",
      "('krish', 'Ankur', 'john')\n"
     ]
    }
   ],
   "source": [
    "print(type(my_tuple))\n",
    "print(my_tuple)"
   ]
  },
  {
   "cell_type": "code",
   "execution_count": 65,
   "id": "d2285cbe-fc7b-4cc5-8b5b-7f1b71c11d88",
   "metadata": {},
   "outputs": [
    {
     "data": {
      "text/plain": [
       "1"
      ]
     },
     "execution_count": 65,
     "metadata": {},
     "output_type": "execute_result"
    }
   ],
   "source": [
    "my_tuple.count(\"krish\")"
   ]
  },
  {
   "cell_type": "code",
   "execution_count": 71,
   "id": "f98a06f9-2795-446a-979f-e9258640bc2e",
   "metadata": {},
   "outputs": [
    {
     "data": {
      "text/plain": [
       "['krish', 'Ankur', 'john']"
      ]
     },
     "execution_count": 71,
     "metadata": {},
     "output_type": "execute_result"
    }
   ],
   "source": [
    "list(my_tuple)"
   ]
  },
  {
   "cell_type": "code",
   "execution_count": null,
   "id": "2915d887-3341-4e58-a0ce-38257e653611",
   "metadata": {},
   "outputs": [],
   "source": []
  }
 ],
 "metadata": {
  "kernelspec": {
   "display_name": "Python 3 (ipykernel)",
   "language": "python",
   "name": "python3"
  },
  "language_info": {
   "codemirror_mode": {
    "name": "ipython",
    "version": 3
   },
   "file_extension": ".py",
   "mimetype": "text/x-python",
   "name": "python",
   "nbconvert_exporter": "python",
   "pygments_lexer": "ipython3",
   "version": "3.12.7"
  }
 },
 "nbformat": 4,
 "nbformat_minor": 5
}
