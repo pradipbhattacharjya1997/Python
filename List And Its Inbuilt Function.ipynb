{
 "cells": [
  {
   "cell_type": "markdown",
   "id": "8f240bcf-a38b-4eed-b26b-d54fe491dfa7",
   "metadata": {},
   "source": [
    "List"
   ]
  },
  {
   "cell_type": "code",
   "execution_count": 2,
   "id": "844df65e-8948-4edd-a700-6791ed1bce94",
   "metadata": {},
   "outputs": [
    {
     "name": "stdout",
     "output_type": "stream",
     "text": [
      "krish\n",
      "<class 'str'>\n"
     ]
    }
   ],
   "source": [
    "#mutable vs immutable\n",
    "str1='krish'\n",
    "print(str1)\n",
    "print(type(str1))"
   ]
  },
  {
   "cell_type": "code",
   "execution_count": 1,
   "id": "c5e5a41b-33d7-4507-9b52-c136f609cae7",
   "metadata": {},
   "outputs": [
    {
     "name": "stdout",
     "output_type": "stream",
     "text": [
      "Naik\n"
     ]
    }
   ],
   "source": [
    "str1=\"Naik\" # string ar immutable\n",
    "print(str1)"
   ]
  },
  {
   "cell_type": "code",
   "execution_count": 2,
   "id": "bad847f1-ede7-4b18-a069-85f77e44f235",
   "metadata": {},
   "outputs": [
    {
     "data": {
      "text/plain": [
       "'N'"
      ]
     },
     "execution_count": 2,
     "metadata": {},
     "output_type": "execute_result"
    }
   ],
   "source": [
    "str1[0]"
   ]
  },
  {
   "cell_type": "code",
   "execution_count": 3,
   "id": "912c6842-4bc1-4ad0-8b7b-f274689631f9",
   "metadata": {},
   "outputs": [
    {
     "data": {
      "text/plain": [
       "list"
      ]
     },
     "execution_count": 3,
     "metadata": {},
     "output_type": "execute_result"
    }
   ],
   "source": [
    "#lists\n",
    "type([])\n"
   ]
  },
  {
   "cell_type": "code",
   "execution_count": 9,
   "id": "b8724b8f-cef5-432e-a6d5-20b35e26642e",
   "metadata": {},
   "outputs": [
    {
     "name": "stdout",
     "output_type": "stream",
     "text": [
      "[1, 2, 3, 4, 'krish']\n",
      "1\n",
      "[1, 2, 3, 4, 'krish']\n"
     ]
    }
   ],
   "source": [
    "#list\n",
    "lst=[1,2,3,4,'krish']\n",
    "print(lst)\n",
    "print(lst[0])\n",
    "print(lst)"
   ]
  },
  {
   "cell_type": "code",
   "execution_count": 10,
   "id": "1c590491-2303-4fe5-8059-4f0453056289",
   "metadata": {},
   "outputs": [
    {
     "name": "stdout",
     "output_type": "stream",
     "text": [
      "Naik\n",
      "[1, 2, 3, 4, 'Naik']\n"
     ]
    }
   ],
   "source": [
    "#list is mutable\n",
    "lst[4]='Naik'\n",
    "print(lst[4])\n",
    "print(lst)"
   ]
  },
  {
   "cell_type": "code",
   "execution_count": 19,
   "id": "63854517-4812-4763-bbb7-e923459615d4",
   "metadata": {},
   "outputs": [
    {
     "name": "stdout",
     "output_type": "stream",
     "text": [
      "[1, 2, 3, 4, 5]\n"
     ]
    }
   ],
   "source": [
    "lst2 =list((1,2,3,4,5))\n",
    "type(lst2)\n",
    "print(lst2)"
   ]
  },
  {
   "cell_type": "code",
   "execution_count": 20,
   "id": "20b6fcac-36bf-46a7-a8df-968ea1d1b31c",
   "metadata": {},
   "outputs": [
    {
     "data": {
      "text/plain": [
       "[1, 2, 3, 4, 5]"
      ]
     },
     "execution_count": 20,
     "metadata": {},
     "output_type": "execute_result"
    }
   ],
   "source": [
    "lst"
   ]
  },
  {
   "cell_type": "code",
   "execution_count": 21,
   "id": "34efca7d-4be0-4f39-b64e-8f71b11a5b2d",
   "metadata": {},
   "outputs": [
    {
     "name": "stdout",
     "output_type": "stream",
     "text": [
      "1\n",
      "2\n",
      "3\n",
      "4\n",
      "5\n"
     ]
    }
   ],
   "source": [
    "for i in lst:\n",
    "    print(i)"
   ]
  },
  {
   "cell_type": "code",
   "execution_count": 22,
   "id": "13528b4f-ea4e-4636-87e3-13fdd22d4d27",
   "metadata": {},
   "outputs": [
    {
     "data": {
      "text/plain": [
       "5"
      ]
     },
     "execution_count": 22,
     "metadata": {},
     "output_type": "execute_result"
    }
   ],
   "source": [
    "len(lst)"
   ]
  },
  {
   "cell_type": "code",
   "execution_count": 24,
   "id": "790257ed-98ee-4640-8fd0-ae4dbf1fea63",
   "metadata": {},
   "outputs": [
    {
     "name": "stdout",
     "output_type": "stream",
     "text": [
      "1\n",
      "4\n",
      "9\n",
      "16\n",
      "25\n"
     ]
    }
   ],
   "source": [
    "for i in lst:\n",
    "    print(i**2)\n",
    "    \n"
   ]
  },
  {
   "cell_type": "code",
   "execution_count": 25,
   "id": "d8d0312e-9fce-4c9c-89a4-105c2fa1cad6",
   "metadata": {},
   "outputs": [
    {
     "data": {
      "text/plain": [
       "5"
      ]
     },
     "execution_count": 25,
     "metadata": {},
     "output_type": "execute_result"
    }
   ],
   "source": [
    "max(lst)"
   ]
  },
  {
   "cell_type": "code",
   "execution_count": 26,
   "id": "4f698b56-2df0-4d58-8ee4-e7313abb8813",
   "metadata": {},
   "outputs": [
    {
     "data": {
      "text/plain": [
       "[1, 2, 3, 4, 5, 'krish']"
      ]
     },
     "execution_count": 26,
     "metadata": {},
     "output_type": "execute_result"
    }
   ],
   "source": [
    "#append is used to add elements in the list\n",
    "lst.append(\"krish\")\n",
    "lst"
   ]
  },
  {
   "cell_type": "code",
   "execution_count": 27,
   "id": "7ef727d8-f6c4-43ef-9064-2c76dee59b46",
   "metadata": {},
   "outputs": [
    {
     "data": {
      "text/plain": [
       "[1, 2, 3, 4, 5, 'krish', ['john', 'Bala']]"
      ]
     },
     "execution_count": 27,
     "metadata": {},
     "output_type": "execute_result"
    }
   ],
   "source": [
    "lst.append([\"john\",\"Bala\"])\n",
    "lst"
   ]
  },
  {
   "cell_type": "code",
   "execution_count": 30,
   "id": "6242238f-4fbd-425c-abae-5035a5f6fc84",
   "metadata": {},
   "outputs": [
    {
     "data": {
      "text/plain": [
       "'Bala'"
      ]
     },
     "execution_count": 30,
     "metadata": {},
     "output_type": "execute_result"
    }
   ],
   "source": [
    "lst[6][1]"
   ]
  },
  {
   "cell_type": "code",
   "execution_count": 33,
   "id": "c87a8a94-ebd9-4828-a57e-255df1e41225",
   "metadata": {},
   "outputs": [
    {
     "data": {
      "text/plain": [
       "[3, 4, 5, 'krish']"
      ]
     },
     "execution_count": 33,
     "metadata": {},
     "output_type": "execute_result"
    }
   ],
   "source": [
    "#list in indexing\n",
    "lst[2:6]"
   ]
  },
  {
   "cell_type": "code",
   "execution_count": 35,
   "id": "32fbd980-152c-4f62-9401-f51ddebee3ed",
   "metadata": {},
   "outputs": [],
   "source": [
    "#insert in a specific order\n",
    "lst.insert(2,\"Naik\")"
   ]
  },
  {
   "cell_type": "code",
   "execution_count": 36,
   "id": "3cd2750d-366b-43de-b809-35bf76e7ba9f",
   "metadata": {},
   "outputs": [
    {
     "data": {
      "text/plain": [
       "[1, 2, 'Naik', 'Naik', 3, 4, 5, 'krish', ['john', 'Bala']]"
      ]
     },
     "execution_count": 36,
     "metadata": {},
     "output_type": "execute_result"
    }
   ],
   "source": [
    "lst"
   ]
  },
  {
   "cell_type": "markdown",
   "id": "9a86108d-288d-47d7-a4ae-2600e91465d4",
   "metadata": {},
   "source": [
    "Extend Method"
   ]
  },
  {
   "cell_type": "code",
   "execution_count": 37,
   "id": "3bed9721-f07b-401d-8862-c93bce1fcc64",
   "metadata": {},
   "outputs": [],
   "source": [
    "lst=[1,2,3,4,5,6]"
   ]
  },
  {
   "cell_type": "code",
   "execution_count": 38,
   "id": "23d48f1f-e970-4270-b28a-22915c8e9db3",
   "metadata": {},
   "outputs": [],
   "source": [
    "lst.extend([7,8,9])"
   ]
  },
  {
   "cell_type": "code",
   "execution_count": 39,
   "id": "58c2bad1-1d38-4a91-b735-4e9b0835a13b",
   "metadata": {},
   "outputs": [
    {
     "data": {
      "text/plain": [
       "[1, 2, 3, 4, 5, 6, 7, 8, 9]"
      ]
     },
     "execution_count": 39,
     "metadata": {},
     "output_type": "execute_result"
    }
   ],
   "source": [
    "lst"
   ]
  },
  {
   "cell_type": "markdown",
   "id": "98f5e3d3-7169-40a8-ba99-bfb8fcdece07",
   "metadata": {},
   "source": [
    "Various Operations that we can perform in list"
   ]
  },
  {
   "cell_type": "code",
   "execution_count": 43,
   "id": "bdf52931-43b3-43d8-a5b2-93c299cae780",
   "metadata": {},
   "outputs": [
    {
     "data": {
      "text/plain": [
       "15"
      ]
     },
     "execution_count": 43,
     "metadata": {},
     "output_type": "execute_result"
    }
   ],
   "source": [
    "lst=[1,2,3,4,5]\n",
    "sum(lst)"
   ]
  },
  {
   "cell_type": "code",
   "execution_count": 44,
   "id": "33fe21a7-c2d6-4c95-80ce-8f6b8211989c",
   "metadata": {},
   "outputs": [
    {
     "data": {
      "text/plain": [
       "[1, 2, 3, 4, 5, 1, 2, 3, 4, 5, 1, 2, 3, 4, 5, 1, 2, 3, 4, 5, 1, 2, 3, 4, 5]"
      ]
     },
     "execution_count": 44,
     "metadata": {},
     "output_type": "execute_result"
    }
   ],
   "source": [
    "lst*5"
   ]
  },
  {
   "cell_type": "code",
   "execution_count": 45,
   "id": "b510f354-130c-4a8c-a262-f9d945c15e90",
   "metadata": {},
   "outputs": [
    {
     "name": "stdout",
     "output_type": "stream",
     "text": [
      "5\n",
      "10\n",
      "15\n",
      "20\n",
      "25\n"
     ]
    }
   ],
   "source": [
    "for i in lst:\n",
    "    print(i*5)"
   ]
  },
  {
   "cell_type": "markdown",
   "id": "fa726e0d-bb37-4bc0-a7c4-8e9332d5a1e8",
   "metadata": {},
   "source": [
    "pop()Method"
   ]
  },
  {
   "cell_type": "code",
   "execution_count": 46,
   "id": "f84dd440-9c4b-4f2d-a8ef-81ad39853066",
   "metadata": {},
   "outputs": [
    {
     "data": {
      "text/plain": [
       "5"
      ]
     },
     "execution_count": 46,
     "metadata": {},
     "output_type": "execute_result"
    }
   ],
   "source": [
    "lst.pop()"
   ]
  },
  {
   "cell_type": "code",
   "execution_count": 47,
   "id": "905e8072-61c8-4f8c-96e9-a520ea4a704e",
   "metadata": {},
   "outputs": [
    {
     "data": {
      "text/plain": [
       "[1, 2, 3, 4]"
      ]
     },
     "execution_count": 47,
     "metadata": {},
     "output_type": "execute_result"
    }
   ],
   "source": [
    "lst"
   ]
  },
  {
   "cell_type": "code",
   "execution_count": 48,
   "id": "c2b3c3d4-1d33-43eb-bb5a-d626b2e88fb1",
   "metadata": {},
   "outputs": [
    {
     "data": {
      "text/plain": [
       "4"
      ]
     },
     "execution_count": 48,
     "metadata": {},
     "output_type": "execute_result"
    }
   ],
   "source": [
    "lst.pop(3)"
   ]
  },
  {
   "cell_type": "code",
   "execution_count": 49,
   "id": "7fc09cb7-a849-4a32-bb14-c54adc1bd728",
   "metadata": {},
   "outputs": [
    {
     "data": {
      "text/plain": [
       "[1, 2, 3]"
      ]
     },
     "execution_count": 49,
     "metadata": {},
     "output_type": "execute_result"
    }
   ],
   "source": [
    "lst"
   ]
  },
  {
   "cell_type": "code",
   "execution_count": 50,
   "id": "ebd07b43-8033-4e13-95b5-1a895a10c914",
   "metadata": {},
   "outputs": [
    {
     "data": {
      "text/plain": [
       "3"
      ]
     },
     "execution_count": 50,
     "metadata": {},
     "output_type": "execute_result"
    }
   ],
   "source": [
    "#length:Calculates total length of list\n",
    "len(lst)"
   ]
  },
  {
   "cell_type": "code",
   "execution_count": null,
   "id": "869ca4c8-d35c-4c5b-aea9-44c9cec81a1e",
   "metadata": {},
   "outputs": [],
   "source": []
  },
  {
   "cell_type": "code",
   "execution_count": null,
   "id": "c4569878-e204-4a2b-8e89-9e3f343218c1",
   "metadata": {},
   "outputs": [],
   "source": []
  }
 ],
 "metadata": {
  "kernelspec": {
   "display_name": "Python 3 (ipykernel)",
   "language": "python",
   "name": "python3"
  },
  "language_info": {
   "codemirror_mode": {
    "name": "ipython",
    "version": 3
   },
   "file_extension": ".py",
   "mimetype": "text/x-python",
   "name": "python",
   "nbconvert_exporter": "python",
   "pygments_lexer": "ipython3",
   "version": "3.12.7"
  }
 },
 "nbformat": 4,
 "nbformat_minor": 5
}
