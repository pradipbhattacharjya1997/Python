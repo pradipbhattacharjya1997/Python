{
 "cells": [
  {
   "cell_type": "markdown",
   "id": "82e36fd0-1f17-46ce-a9ce-02010537eaa9",
   "metadata": {},
   "source": [
    "Number Methods"
   ]
  },
  {
   "cell_type": "markdown",
   "id": "64faa229-231a-4e8c-affa-800594bfacc9",
   "metadata": {},
   "source": [
    "1 + 2"
   ]
  },
  {
   "cell_type": "code",
   "execution_count": 3,
   "id": "79aa1205-06b3-4546-b31f-f8c0f1a35311",
   "metadata": {},
   "outputs": [
    {
     "data": {
      "text/plain": [
       "10"
      ]
     },
     "execution_count": 3,
     "metadata": {},
     "output_type": "execute_result"
    }
   ],
   "source": [
    "abs(10)"
   ]
  },
  {
   "cell_type": "code",
   "execution_count": 4,
   "id": "10ed3d66-4d42-443f-8a6b-1b991f7d82ae",
   "metadata": {},
   "outputs": [
    {
     "data": {
      "text/plain": [
       "44"
      ]
     },
     "execution_count": 4,
     "metadata": {},
     "output_type": "execute_result"
    }
   ],
   "source": [
    "21+23"
   ]
  },
  {
   "cell_type": "code",
   "execution_count": 5,
   "id": "225dd8f3-e35a-4230-93d3-9fd01abb3e3e",
   "metadata": {},
   "outputs": [
    {
     "data": {
      "text/plain": [
       "3"
      ]
     },
     "execution_count": 5,
     "metadata": {},
     "output_type": "execute_result"
    }
   ],
   "source": [
    "abs(3)"
   ]
  },
  {
   "cell_type": "code",
   "execution_count": 6,
   "id": "9d9b389e-42d7-463c-8121-b6cc87ef333a",
   "metadata": {},
   "outputs": [
    {
     "data": {
      "text/plain": [
       "34.2"
      ]
     },
     "execution_count": 6,
     "metadata": {},
     "output_type": "execute_result"
    }
   ],
   "source": [
    "abs(34.20)"
   ]
  },
  {
   "cell_type": "code",
   "execution_count": 7,
   "id": "92ed89f1-cda4-46cb-a418-b544d804514b",
   "metadata": {},
   "outputs": [
    {
     "data": {
      "text/plain": [
       "55.02"
      ]
     },
     "execution_count": 7,
     "metadata": {},
     "output_type": "execute_result"
    }
   ],
   "source": [
    "abs(-55.02)"
   ]
  },
  {
   "cell_type": "markdown",
   "id": "d0ec8ad1-81e2-40aa-8389-2ae54e0cb9ac",
   "metadata": {},
   "source": [
    "ceil()"
   ]
  },
  {
   "cell_type": "code",
   "execution_count": 1,
   "id": "3bf29ed8-991f-4215-8be8-ecfdd3c4f47e",
   "metadata": {},
   "outputs": [],
   "source": [
    "import math"
   ]
  },
  {
   "cell_type": "code",
   "execution_count": 2,
   "id": "db18e046-dafc-4ba2-ad9c-2b00bf0001b3",
   "metadata": {},
   "outputs": [
    {
     "data": {
      "text/plain": [
       "44"
      ]
     },
     "execution_count": 2,
     "metadata": {},
     "output_type": "execute_result"
    }
   ],
   "source": [
    "math.ceil(43.67)"
   ]
  },
  {
   "cell_type": "code",
   "execution_count": 4,
   "id": "7d04b477",
   "metadata": {},
   "outputs": [
    {
     "data": {
      "text/plain": [
       "44"
      ]
     },
     "execution_count": 4,
     "metadata": {},
     "output_type": "execute_result"
    }
   ],
   "source": [
    "math.ceil(43.3)"
   ]
  },
  {
   "cell_type": "code",
   "execution_count": 5,
   "id": "152ff42c",
   "metadata": {},
   "outputs": [
    {
     "data": {
      "text/plain": [
       "43"
      ]
     },
     "execution_count": 5,
     "metadata": {},
     "output_type": "execute_result"
    }
   ],
   "source": [
    "math.ceil(42.1)"
   ]
  },
  {
   "cell_type": "code",
   "execution_count": 6,
   "id": "c16c106a-d217-4a54-896d-38a0fe653ad1",
   "metadata": {},
   "outputs": [
    {
     "data": {
      "text/plain": [
       "-44"
      ]
     },
     "execution_count": 6,
     "metadata": {},
     "output_type": "execute_result"
    }
   ],
   "source": [
    "math.ceil(-44.5)"
   ]
  },
  {
   "cell_type": "markdown",
   "id": "e365b8db-5135-4c4c-a716-1b4db33d5fb2",
   "metadata": {},
   "source": [
    "##floor"
   ]
  },
  {
   "cell_type": "code",
   "execution_count": 7,
   "id": "7c305239-e3f7-403a-81ad-70be648cfc3e",
   "metadata": {},
   "outputs": [
    {
     "data": {
      "text/plain": [
       "43"
      ]
     },
     "execution_count": 7,
     "metadata": {},
     "output_type": "execute_result"
    }
   ],
   "source": [
    "math.floor(43.1)"
   ]
  },
  {
   "cell_type": "code",
   "execution_count": 8,
   "id": "6f2340b8-6703-4741-a561-a9871810f349",
   "metadata": {},
   "outputs": [
    {
     "data": {
      "text/plain": [
       "43"
      ]
     },
     "execution_count": 8,
     "metadata": {},
     "output_type": "execute_result"
    }
   ],
   "source": [
    "math.floor(43.9)"
   ]
  },
  {
   "cell_type": "code",
   "execution_count": 9,
   "id": "6d35908d-37b8-4a82-8610-704ab255f5d5",
   "metadata": {},
   "outputs": [
    {
     "data": {
      "text/plain": [
       "-57"
      ]
     },
     "execution_count": 9,
     "metadata": {},
     "output_type": "execute_result"
    }
   ],
   "source": [
    "math.floor(-56.9)"
   ]
  },
  {
   "cell_type": "markdown",
   "id": "f04b7b49-0bfd-429f-b97c-cf29face8383",
   "metadata": {},
   "source": [
    "exp()"
   ]
  },
  {
   "cell_type": "code",
   "execution_count": 10,
   "id": "d6d9fb4d-0cde-4dc7-a46d-32240646b2ec",
   "metadata": {},
   "outputs": [
    {
     "data": {
      "text/plain": [
       "22026.465794806718"
      ]
     },
     "execution_count": 10,
     "metadata": {},
     "output_type": "execute_result"
    }
   ],
   "source": [
    "math.exp(10)"
   ]
  },
  {
   "cell_type": "markdown",
   "id": "3a5692b0-266c-4d17-a5bb-aaf332532827",
   "metadata": {},
   "source": [
    "fabs()"
   ]
  },
  {
   "cell_type": "code",
   "execution_count": 12,
   "id": "e6d8625c-2ffa-49a7-9cc1-084ccde0636f",
   "metadata": {},
   "outputs": [
    {
     "data": {
      "text/plain": [
       "10.53"
      ]
     },
     "execution_count": 12,
     "metadata": {},
     "output_type": "execute_result"
    }
   ],
   "source": [
    "math.fabs(10.53)"
   ]
  },
  {
   "cell_type": "code",
   "execution_count": 13,
   "id": "d825261e-d986-4182-9c3a-a67c31484fb3",
   "metadata": {},
   "outputs": [
    {
     "data": {
      "text/plain": [
       "10.0"
      ]
     },
     "execution_count": 13,
     "metadata": {},
     "output_type": "execute_result"
    }
   ],
   "source": [
    "math.fabs(-10)"
   ]
  },
  {
   "cell_type": "markdown",
   "id": "bcd82098-b621-4531-893d-c0ab0a99c22a",
   "metadata": {},
   "source": [
    "Log(x)"
   ]
  },
  {
   "cell_type": "code",
   "execution_count": 14,
   "id": "cea24d90-eb2a-4bf9-b108-beebf29133c0",
   "metadata": {},
   "outputs": [
    {
     "data": {
      "text/plain": [
       "2.995732273553991"
      ]
     },
     "execution_count": 14,
     "metadata": {},
     "output_type": "execute_result"
    }
   ],
   "source": [
    "math.log(20)"
   ]
  },
  {
   "cell_type": "code",
   "execution_count": 15,
   "id": "b53dc0dd-775c-4686-92c0-3b50feddd4d7",
   "metadata": {},
   "outputs": [
    {
     "data": {
      "text/plain": [
       "4.182050142641207"
      ]
     },
     "execution_count": 15,
     "metadata": {},
     "output_type": "execute_result"
    }
   ],
   "source": [
    "math.log(65.5)"
   ]
  },
  {
   "cell_type": "code",
   "execution_count": 16,
   "id": "96d22bf5-d40c-483b-a081-3a5032001d6e",
   "metadata": {},
   "outputs": [
    {
     "data": {
      "text/plain": [
       "1.0"
      ]
     },
     "execution_count": 16,
     "metadata": {},
     "output_type": "execute_result"
    }
   ],
   "source": [
    "math.log10(10)"
   ]
  },
  {
   "cell_type": "markdown",
   "id": "a609dfd4-6642-4311-a964-5c0b51f8b173",
   "metadata": {},
   "source": [
    "Max()"
   ]
  },
  {
   "cell_type": "code",
   "execution_count": 18,
   "id": "d69174ad-7126-433f-afbd-c21408fa5417",
   "metadata": {},
   "outputs": [
    {
     "data": {
      "text/plain": [
       "100"
      ]
     },
     "execution_count": 18,
     "metadata": {},
     "output_type": "execute_result"
    }
   ],
   "source": [
    "max(10,12,5,76,100)"
   ]
  },
  {
   "cell_type": "code",
   "execution_count": 19,
   "id": "5ea285ee-5b30-40fd-8d89-ebcde8f2bfe2",
   "metadata": {},
   "outputs": [
    {
     "data": {
      "text/plain": [
       "-33"
      ]
     },
     "execution_count": 19,
     "metadata": {},
     "output_type": "execute_result"
    }
   ],
   "source": [
    "max(-55,-44,-33)"
   ]
  },
  {
   "cell_type": "markdown",
   "id": "758c65f8-d31d-49b8-8581-e1322b1e56a1",
   "metadata": {},
   "source": [
    "Min()"
   ]
  },
  {
   "cell_type": "code",
   "execution_count": 20,
   "id": "a07149b9-5f7e-492e-a8f2-665c7320c552",
   "metadata": {},
   "outputs": [
    {
     "data": {
      "text/plain": [
       "0"
      ]
     },
     "execution_count": 20,
     "metadata": {},
     "output_type": "execute_result"
    }
   ],
   "source": [
    "min(0,100,4,5,3)"
   ]
  },
  {
   "cell_type": "code",
   "execution_count": 21,
   "id": "3b7e6967-d111-4e5f-9f3a-c1bf6530b3f3",
   "metadata": {},
   "outputs": [
    {
     "data": {
      "text/plain": [
       "-1"
      ]
     },
     "execution_count": 21,
     "metadata": {},
     "output_type": "execute_result"
    }
   ],
   "source": [
    "min(-1,0)"
   ]
  },
  {
   "cell_type": "markdown",
   "id": "9e54887a-2d74-4c06-80ef-0597779cade3",
   "metadata": {},
   "source": [
    "pow()"
   ]
  },
  {
   "cell_type": "code",
   "execution_count": 22,
   "id": "4fde3021-b416-4c3d-9e23-845cf8acc829",
   "metadata": {},
   "outputs": [],
   "source": [
    "import math"
   ]
  },
  {
   "cell_type": "code",
   "execution_count": 23,
   "id": "d27ffa1b-99ce-4ddc-b7ef-d619b319e93b",
   "metadata": {},
   "outputs": [
    {
     "data": {
      "text/plain": [
       "32.0"
      ]
     },
     "execution_count": 23,
     "metadata": {},
     "output_type": "execute_result"
    }
   ],
   "source": [
    "math.pow(2,5)"
   ]
  },
  {
   "cell_type": "code",
   "execution_count": 24,
   "id": "3d46c9c6-0aa8-4860-a95f-c9b0b921a9b8",
   "metadata": {},
   "outputs": [
    {
     "data": {
      "text/plain": [
       "-3125.0"
      ]
     },
     "execution_count": 24,
     "metadata": {},
     "output_type": "execute_result"
    }
   ],
   "source": [
    "math.pow(-5,5)"
   ]
  },
  {
   "cell_type": "markdown",
   "id": "0ecb704d-72d6-48b5-b8a4-54efa42fc1e5",
   "metadata": {},
   "source": [
    "sqrt()"
   ]
  },
  {
   "cell_type": "code",
   "execution_count": 25,
   "id": "79b12193-06fb-419b-980c-b87c5fc4dc05",
   "metadata": {},
   "outputs": [
    {
     "data": {
      "text/plain": [
       "4.0"
      ]
     },
     "execution_count": 25,
     "metadata": {},
     "output_type": "execute_result"
    }
   ],
   "source": [
    "math.sqrt(16)"
   ]
  },
  {
   "cell_type": "code",
   "execution_count": 26,
   "id": "284fdc1a-da26-463a-995c-b69a6e473f8b",
   "metadata": {},
   "outputs": [
    {
     "data": {
      "text/plain": [
       "3.0"
      ]
     },
     "execution_count": 26,
     "metadata": {},
     "output_type": "execute_result"
    }
   ],
   "source": [
    "math.sqrt(9)"
   ]
  },
  {
   "cell_type": "code",
   "execution_count": 27,
   "id": "a49ec6d1-b74c-4fce-b308-a36d39401e68",
   "metadata": {},
   "outputs": [
    {
     "data": {
      "text/plain": [
       "10.04987562112089"
      ]
     },
     "execution_count": 27,
     "metadata": {},
     "output_type": "execute_result"
    }
   ],
   "source": [
    "math.sqrt(101)"
   ]
  },
  {
   "cell_type": "markdown",
   "id": "f4fab27c-bd63-48c1-a760-4fa9a61fff10",
   "metadata": {},
   "source": [
    "Triggnometric functions"
   ]
  },
  {
   "cell_type": "code",
   "execution_count": 28,
   "id": "29e7e11a-89ec-41cd-800b-e5ce84816ca4",
   "metadata": {},
   "outputs": [],
   "source": [
    "import math"
   ]
  },
  {
   "cell_type": "code",
   "execution_count": 29,
   "id": "8a2cf978-63bd-4ec1-b9e2-e825f866faf4",
   "metadata": {},
   "outputs": [
    {
     "data": {
      "text/plain": [
       "0.8939966636005579"
      ]
     },
     "execution_count": 29,
     "metadata": {},
     "output_type": "execute_result"
    }
   ],
   "source": [
    "math.sin(90)"
   ]
  },
  {
   "cell_type": "code",
   "execution_count": 30,
   "id": "869ba178-569e-4892-8d0b-0d01e518f4af",
   "metadata": {},
   "outputs": [
    {
     "data": {
      "text/plain": [
       "-0.4480736161291701"
      ]
     },
     "execution_count": 30,
     "metadata": {},
     "output_type": "execute_result"
    }
   ],
   "source": [
    "math.cos(90)"
   ]
  },
  {
   "cell_type": "code",
   "execution_count": 31,
   "id": "05f8648f-c475-4fb1-9b4a-c176a81109d2",
   "metadata": {},
   "outputs": [
    {
     "data": {
      "text/plain": [
       "1.0"
      ]
     },
     "execution_count": 31,
     "metadata": {},
     "output_type": "execute_result"
    }
   ],
   "source": [
    "math.cos(0)"
   ]
  },
  {
   "cell_type": "code",
   "execution_count": 32,
   "id": "77636ee7-d439-459b-b0b5-c2a46fc75a9a",
   "metadata": {},
   "outputs": [
    {
     "data": {
      "text/plain": [
       "1.6197751905438615"
      ]
     },
     "execution_count": 32,
     "metadata": {},
     "output_type": "execute_result"
    }
   ],
   "source": [
    "math.tan(45)"
   ]
  },
  {
   "cell_type": "markdown",
   "id": "1ba1f1f3-517a-4ffc-ab0c-65b5529a35b1",
   "metadata": {},
   "source": [
    "Hypot()"
   ]
  },
  {
   "cell_type": "code",
   "execution_count": 33,
   "id": "0d9f8ba2-c869-4adf-8324-71422baca21c",
   "metadata": {},
   "outputs": [
    {
     "data": {
      "text/plain": [
       "3.605551275463989"
      ]
     },
     "execution_count": 33,
     "metadata": {},
     "output_type": "execute_result"
    }
   ],
   "source": [
    "math.hypot(2,3)"
   ]
  },
  {
   "cell_type": "code",
   "execution_count": 34,
   "id": "85fc29c0-74ff-4d5e-a73f-fb3ddb28551a",
   "metadata": {},
   "outputs": [
    {
     "data": {
      "text/plain": [
       "(0.20000000000000284, 100.0)"
      ]
     },
     "execution_count": 34,
     "metadata": {},
     "output_type": "execute_result"
    }
   ],
   "source": [
    "math.modf(100.2)"
   ]
  },
  {
   "cell_type": "markdown",
   "id": "0a480b08-1989-408a-8a83-b5ac33e2b7b9",
   "metadata": {},
   "source": [
    "Assignment"
   ]
  },
  {
   "cell_type": "code",
   "execution_count": 38,
   "id": "3eb05280-3e1f-443f-852c-c195b7a51af7",
   "metadata": {},
   "outputs": [
    {
     "name": "stdout",
     "output_type": "stream",
     "text": [
      "2,3,5,7,11,13,17,19,23,29,31,37,41,43,47,53,59,61,67,71,73,79,83,89,97,"
     ]
    }
   ],
   "source": [
    "#program to check prime numbers\n",
    "import math\n",
    "\n",
    "for i in range(2,101):   # The range() function does not include the last number (the ending number). Only numbers from 2 to 100 are counted.\n",
    "    for j in range(2,101):\n",
    "        if i%j == 0:\n",
    "            break\n",
    "    if i == j:\n",
    "        print(i,end=\",\")"
   ]
  },
  {
   "cell_type": "code",
   "execution_count": 39,
   "id": "387fc4c1-8c72-45ff-b32d-6f2398ce67ca",
   "metadata": {},
   "outputs": [
    {
     "name": "stdout",
     "output_type": "stream",
     "text": [
      "14\n"
     ]
    }
   ],
   "source": [
    "#program to check max of 3 numberd\n",
    "a = 10\n",
    "b = 14\n",
    "c = 12\n",
    "\n",
    "res = max(a, b, c)\n",
    "print(res)\n"
   ]
  },
  {
   "cell_type": "code",
   "execution_count": null,
   "id": "78d9dca2-6447-4a3c-9af1-eee175e209e6",
   "metadata": {},
   "outputs": [],
   "source": []
  }
 ],
 "metadata": {
  "kernelspec": {
   "display_name": "Python 3 (ipykernel)",
   "language": "python",
   "name": "python3"
  },
  "language_info": {
   "codemirror_mode": {
    "name": "ipython",
    "version": 3
   },
   "file_extension": ".py",
   "mimetype": "text/x-python",
   "name": "python",
   "nbconvert_exporter": "python",
   "pygments_lexer": "ipython3",
   "version": "3.12.7"
  }
 },
 "nbformat": 4,
 "nbformat_minor": 5
}
