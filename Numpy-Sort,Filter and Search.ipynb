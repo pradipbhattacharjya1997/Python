{
 "cells": [
  {
   "cell_type": "code",
   "execution_count": 1,
   "id": "b5f6828a-5874-49fa-867f-04c2b0f6cde8",
   "metadata": {},
   "outputs": [],
   "source": [
    "import numpy as np"
   ]
  },
  {
   "cell_type": "code",
   "execution_count": 3,
   "id": "e3e18bf6-a98d-4d71-a4d2-878e5e014e35",
   "metadata": {},
   "outputs": [
    {
     "name": "stdout",
     "output_type": "stream",
     "text": [
      "[[ 4  7  8  9 12]\n",
      " [ 1  2  3  5  8]]\n"
     ]
    }
   ],
   "source": [
    "ar = np.array([[7,8,4,12,9],[2,8,5,1,3]])\n",
    "print(np.sort(ar))"
   ]
  },
  {
   "cell_type": "code",
   "execution_count": 4,
   "id": "b7463ca9-eaf2-40b3-860b-8212b1bc1e80",
   "metadata": {},
   "outputs": [
    {
     "name": "stdout",
     "output_type": "stream",
     "text": [
      "(array([1], dtype=int64),)\n"
     ]
    }
   ],
   "source": [
    "ar = np.array([3,4,1,7,8])\n",
    "s = np.where(ar == 4)\n",
    "print (s)"
   ]
  },
  {
   "cell_type": "code",
   "execution_count": 5,
   "id": "36b63b36-dfab-47e8-a5e9-9f1a30633af0",
   "metadata": {},
   "outputs": [
    {
     "name": "stdout",
     "output_type": "stream",
     "text": [
      "(array([1, 4], dtype=int64),)\n"
     ]
    }
   ],
   "source": [
    "ar = np.array([3,4,1,7,8])\n",
    "s = np.where(ar % 4 == 0)\n",
    "print (s)"
   ]
  },
  {
   "cell_type": "code",
   "execution_count": 8,
   "id": "e591ad25-81be-40b6-bc76-3c72b0808ddc",
   "metadata": {},
   "outputs": [
    {
     "name": "stdout",
     "output_type": "stream",
     "text": [
      "4\n"
     ]
    }
   ],
   "source": [
    "ar = np.array([1,2,3,4,5])\n",
    "ss = np.searchsorted(ar, 5)\n",
    "print(ss)"
   ]
  },
  {
   "cell_type": "code",
   "execution_count": 10,
   "id": "9153374f-3dd5-4267-b846-b4b40f3c0eda",
   "metadata": {},
   "outputs": [
    {
     "name": "stdout",
     "output_type": "stream",
     "text": [
      "[20 40]\n"
     ]
    }
   ],
   "source": [
    "#finter\n",
    "ar = np.array([20,30,40,50])\n",
    "fa = [True, False, True, False]\n",
    "new = ar[fa]\n",
    "print(new)"
   ]
  },
  {
   "cell_type": "code",
   "execution_count": 11,
   "id": "f06fc073-d7a6-4e88-8b4a-b6921bc662a3",
   "metadata": {},
   "outputs": [
    {
     "name": "stdout",
     "output_type": "stream",
     "text": [
      "[40 50]\n"
     ]
    }
   ],
   "source": [
    "ar =np.array([20,30,40,50])\n",
    "fa = ar>35\n",
    "\n",
    "new = ar[fa]\n",
    "print (new)"
   ]
  },
  {
   "cell_type": "code",
   "execution_count": 12,
   "id": "482fe21a-2b08-4d71-be2f-a2d62cd76b34",
   "metadata": {},
   "outputs": [
    {
     "name": "stdout",
     "output_type": "stream",
     "text": [
      "[3 5]\n"
     ]
    }
   ],
   "source": [
    "ar= np.array([2,3,4,5])\n",
    "fa = ar%2 == 1\n",
    "\n",
    "new = ar[fa]\n",
    "print(new)"
   ]
  },
  {
   "cell_type": "markdown",
   "id": "86729237-6524-4d8e-b69b-2b0c6035295c",
   "metadata": {},
   "source": [
    "Aggregating Functions in Numpy"
   ]
  },
  {
   "cell_type": "code",
   "execution_count": 3,
   "id": "b52541f9-b99b-4538-9318-0e25503f4499",
   "metadata": {},
   "outputs": [
    {
     "name": "stdout",
     "output_type": "stream",
     "text": [
      "20\n",
      "190\n",
      "70\n",
      "4\n",
      "47.5\n",
      "[ 20  60 120 190]\n",
      "[     20     800   48000 3360000]\n"
     ]
    }
   ],
   "source": [
    "a = np.array([20,40,60,70])\n",
    "print(np.min(a))\n",
    "print(np.sum(a))\n",
    "print(np.max(a))\n",
    "print(np.size(a))\n",
    "print(np.mean(a))\n",
    "print(np.cumsum(a))\n",
    "print(np.cumprod(a))\n"
   ]
  },
  {
   "cell_type": "code",
   "execution_count": 10,
   "id": "7d6ab919-0106-4082-bb8e-de9aa17f2e7e",
   "metadata": {},
   "outputs": [
    {
     "name": "stdout",
     "output_type": "stream",
     "text": [
      "[190 150 199 200 250 130] \n",
      " [10 50 30 40 30 10]\n",
      "\n",
      "[[ 190  150  199  200  250  130]\n",
      " [1900 7500 5970 8000 7500 1300]]\n",
      "32170\n"
     ]
    }
   ],
   "source": [
    "a = [190,150,199,200,250,130]\n",
    "b = [10,50,30,40,30,10]\n",
    "\n",
    "price = np.array(a)\n",
    "quantity = np.array(b)\n",
    "\n",
    "print(price,\"\\n\" ,quantity)\n",
    "print()\n",
    "c = np.cumprod([price,quantity], axis = 0)\n",
    "print(c)\n",
    "print(c[1].sum())"
   ]
  },
  {
   "cell_type": "code",
   "execution_count": null,
   "id": "fee03bfb-af9e-4cbb-b123-0c173b8fdd8f",
   "metadata": {},
   "outputs": [],
   "source": []
  }
 ],
 "metadata": {
  "kernelspec": {
   "display_name": "Python 3 (ipykernel)",
   "language": "python",
   "name": "python3"
  },
  "language_info": {
   "codemirror_mode": {
    "name": "ipython",
    "version": 3
   },
   "file_extension": ".py",
   "mimetype": "text/x-python",
   "name": "python",
   "nbconvert_exporter": "python",
   "pygments_lexer": "ipython3",
   "version": "3.12.7"
  }
 },
 "nbformat": 4,
 "nbformat_minor": 5
}
