{
 "cells": [
  {
   "cell_type": "code",
   "execution_count": 1,
   "id": "bcb4600c-328c-412a-968f-de22c4ce2799",
   "metadata": {},
   "outputs": [],
   "source": [
    "from dataclasses import dataclass\n",
    "\n",
    "@dataclass\n",
    "class Person:\n",
    "    name:str\n",
    "    age:int\n",
    "    profession: str"
   ]
  },
  {
   "cell_type": "code",
   "execution_count": 2,
   "id": "2cd5d857-814a-461a-a503-6f919795511a",
   "metadata": {},
   "outputs": [
    {
     "data": {
      "text/plain": [
       "Person(name='Krish', age=17, profession='SE')"
      ]
     },
     "execution_count": 2,
     "metadata": {},
     "output_type": "execute_result"
    }
   ],
   "source": [
    "person1=Person('Krish',17,'SE')\n",
    "person1"
   ]
  },
  {
   "cell_type": "code",
   "execution_count": 3,
   "id": "0788e4f5-d70e-463e-9c75-8f1e0383f456",
   "metadata": {},
   "outputs": [
    {
     "data": {
      "text/plain": [
       "17"
      ]
     },
     "execution_count": 3,
     "metadata": {},
     "output_type": "execute_result"
    }
   ],
   "source": [
    "person1.age"
   ]
  },
  {
   "cell_type": "code",
   "execution_count": 5,
   "id": "fc87410e-893f-4b49-b9a4-0fa1ebd7dcd2",
   "metadata": {},
   "outputs": [],
   "source": [
    "@dataclass\n",
    "class Rectangle:\n",
    "    width:int\n",
    "    height:int\n",
    "    color:str='white'\n",
    "\n",
    "rectangle1=Rectangle(12,14)\n",
    "rectangle2=Rectangle(13,14,'red')"
   ]
  },
  {
   "cell_type": "code",
   "execution_count": 9,
   "id": "309a67d1-e22e-4160-a174-2f8222ab6ab6",
   "metadata": {},
   "outputs": [
    {
     "data": {
      "text/plain": [
       "'white'"
      ]
     },
     "execution_count": 9,
     "metadata": {},
     "output_type": "execute_result"
    }
   ],
   "source": [
    "rectangle1.color\n"
   ]
  },
  {
   "cell_type": "code",
   "execution_count": 8,
   "id": "4d98fc32-35d4-4ab5-90de-d6f5c910ea88",
   "metadata": {},
   "outputs": [
    {
     "data": {
      "text/plain": [
       "'red'"
      ]
     },
     "execution_count": 8,
     "metadata": {},
     "output_type": "execute_result"
    }
   ],
   "source": [
    "rectangle2.color"
   ]
  },
  {
   "cell_type": "code",
   "execution_count": 10,
   "id": "4a30358d-b2ee-4a49-91b0-57e794bb4582",
   "metadata": {},
   "outputs": [],
   "source": [
    "@dataclass(frozen=True)\n",
    "class Point:\n",
    "    x:int\n",
    "    y:int"
   ]
  },
  {
   "cell_type": "code",
   "execution_count": 11,
   "id": "fff0ac07-246d-4fc6-9cdc-215405c16d77",
   "metadata": {},
   "outputs": [],
   "source": [
    "point=Point(3,4)"
   ]
  },
  {
   "cell_type": "code",
   "execution_count": 12,
   "id": "bbff89fb-292f-4be6-8cec-8a1bab56ac95",
   "metadata": {},
   "outputs": [
    {
     "data": {
      "text/plain": [
       "(3, 4)"
      ]
     },
     "execution_count": 12,
     "metadata": {},
     "output_type": "execute_result"
    }
   ],
   "source": [
    "point.x,point.y"
   ]
  },
  {
   "cell_type": "code",
   "execution_count": 13,
   "id": "c113cfbe-6c43-4254-a893-7e12ad8cd0d8",
   "metadata": {},
   "outputs": [],
   "source": [
    "## inheritance\n",
    "@dataclass\n",
    "class Person:\n",
    "    name:str\n",
    "    age:int\n",
    "@dataclass\n",
    "class Employee(Person):\n",
    "    employee_id:str\n",
    "    department:str"
   ]
  },
  {
   "cell_type": "code",
   "execution_count": 14,
   "id": "29dc621e-4e12-40da-8214-8107f616cf22",
   "metadata": {},
   "outputs": [],
   "source": [
    "person=Person('Krish',31)\n",
    "employee=Employee(\"Krish\",31,'123','AI')"
   ]
  },
  {
   "cell_type": "code",
   "execution_count": 15,
   "id": "72b1e426-8ad3-4f44-addf-664595d8d13e",
   "metadata": {},
   "outputs": [
    {
     "data": {
      "text/plain": [
       "'Krish'"
      ]
     },
     "execution_count": 15,
     "metadata": {},
     "output_type": "execute_result"
    }
   ],
   "source": [
    "employee.name"
   ]
  },
  {
   "cell_type": "code",
   "execution_count": 16,
   "id": "5206003b-be1b-46bf-ac6a-b13109f88327",
   "metadata": {},
   "outputs": [],
   "source": [
    "## Nested Dataclasses\n",
    "@dataclass\n",
    "class Address:\n",
    "    street:str\n",
    "    city:str\n",
    "    zip_code:str\n",
    "\n",
    "@dataclass\n",
    "class Person:\n",
    "    name:str\n",
    "    age:str\n",
    "    address:Address\n"
   ]
  },
  {
   "cell_type": "code",
   "execution_count": 18,
   "id": "485e7349-9402-4be5-aad1-142edc8709c2",
   "metadata": {},
   "outputs": [],
   "source": [
    "address=Address('123 MAin street','Bangalore','12345')\n",
    "person=Person('Krish',31,address)"
   ]
  },
  {
   "cell_type": "code",
   "execution_count": 19,
   "id": "b762a538-e120-4679-8156-7f9fae70b093",
   "metadata": {},
   "outputs": [
    {
     "data": {
      "text/plain": [
       "Address(street='123 MAin street', city='Bangalore', zip_code='12345')"
      ]
     },
     "execution_count": 19,
     "metadata": {},
     "output_type": "execute_result"
    }
   ],
   "source": [
    "person.address"
   ]
  },
  {
   "cell_type": "code",
   "execution_count": 20,
   "id": "cf9e8e34-c37a-4472-ba85-eba57dd0e429",
   "metadata": {},
   "outputs": [
    {
     "data": {
      "text/plain": [
       "'Bangalore'"
      ]
     },
     "execution_count": 20,
     "metadata": {},
     "output_type": "execute_result"
    }
   ],
   "source": [
    "person.address.city"
   ]
  },
  {
   "cell_type": "code",
   "execution_count": null,
   "id": "c55e01e5-79d9-457c-8e6b-271b4d7a1e54",
   "metadata": {},
   "outputs": [],
   "source": []
  }
 ],
 "metadata": {
  "kernelspec": {
   "display_name": "Python 3 (ipykernel)",
   "language": "python",
   "name": "python3"
  },
  "language_info": {
   "codemirror_mode": {
    "name": "ipython",
    "version": 3
   },
   "file_extension": ".py",
   "mimetype": "text/x-python",
   "name": "python",
   "nbconvert_exporter": "python",
   "pygments_lexer": "ipython3",
   "version": "3.12.7"
  }
 },
 "nbformat": 4,
 "nbformat_minor": 5
}
