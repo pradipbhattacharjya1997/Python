{
 "cells": [
  {
   "cell_type": "markdown",
   "id": "c2e5005b-61f2-4658-a416-97bd32c76e12",
   "metadata": {},
   "source": [
    "Encapsulation With Access Modifiers Public,Protected & Private"
   ]
  },
  {
   "cell_type": "code",
   "execution_count": 14,
   "id": "d234c5cc-da50-4e01-83d4-fc6937e9264e",
   "metadata": {},
   "outputs": [],
   "source": [
    "# Access Modifier--->Encapsulation\n",
    "#private\n",
    "\n",
    "class Person:\n",
    "    ##constuctor\n",
    "    def __init__(self,name,age):\n",
    "        self.__name=name\n",
    "        self.__age=age\n",
    "        \n",
    "    def display_info(self):\n",
    "        print(f\"The person name is {self.__name} and the age is {self.__age}\")"
   ]
  },
  {
   "cell_type": "code",
   "execution_count": 15,
   "id": "dc5f1771-9127-415e-9007-10470eaa6951",
   "metadata": {},
   "outputs": [
    {
     "name": "stdout",
     "output_type": "stream",
     "text": [
      "The person name is Krish and the age is 32\n"
     ]
    }
   ],
   "source": [
    "person=Person(\"Krish\",32)\n",
    "\n",
    "person.display_info()"
   ]
  },
  {
   "cell_type": "code",
   "execution_count": 23,
   "id": "b8506af0-6dd9-4cf4-ad33-77d7dcd397f7",
   "metadata": {},
   "outputs": [],
   "source": [
    "# Access Modifier--->Encapsulation\n",
    "#protected\n",
    "\n",
    "class Person:\n",
    "    ##constuctor\n",
    "    def __init__(self,name,age):\n",
    "        self._name=name\n",
    "        self._age=age\n",
    "        \n",
    "   "
   ]
  },
  {
   "cell_type": "code",
   "execution_count": 24,
   "id": "5a6a93b3-8649-4b8e-99f0-d7ef9f5a4c61",
   "metadata": {},
   "outputs": [],
   "source": [
    "person=Person(\"Krish\",32)"
   ]
  },
  {
   "cell_type": "code",
   "execution_count": 20,
   "id": "73e5844c-8491-4e31-8479-1fb8954fbcf2",
   "metadata": {},
   "outputs": [
    {
     "data": {
      "text/plain": [
       "32"
      ]
     },
     "execution_count": 20,
     "metadata": {},
     "output_type": "execute_result"
    }
   ],
   "source": [
    "dir(person)\n",
    "person._age"
   ]
  },
  {
   "cell_type": "code",
   "execution_count": 31,
   "id": "cf9a4ff5-acf7-4ca8-b6f5-1b69db12bb14",
   "metadata": {},
   "outputs": [],
   "source": [
    "\n",
    "class Student(Person):\n",
    "    def __init__(self,name,age):\n",
    "        super().__init__(name,age)\n",
    "\n",
    "    def display_info(self):\n",
    "        print(f\"the person name is {self._name} and the age is {self._age}\")\n",
    "\n"
   ]
  },
  {
   "cell_type": "code",
   "execution_count": 32,
   "id": "7c3b0665-19c3-4b89-b223-b67bc1214bb7",
   "metadata": {},
   "outputs": [],
   "source": [
    "student1=Student(\"Krish\",33)"
   ]
  },
  {
   "cell_type": "code",
   "execution_count": 35,
   "id": "a5626c9d-84c9-42e3-872a-fdc88b90bf1d",
   "metadata": {},
   "outputs": [
    {
     "name": "stdout",
     "output_type": "stream",
     "text": [
      "the person name is Krish and the age is 33\n"
     ]
    }
   ],
   "source": [
    "student1.display_info()"
   ]
  },
  {
   "cell_type": "code",
   "execution_count": null,
   "id": "d77770c7-7199-4155-b5d9-a010d84416f3",
   "metadata": {},
   "outputs": [],
   "source": [
    "#public access modifiers\n",
    "\n",
    "class Person:\n",
    "    ##constuctor\n",
    "    def __init__(self,name,age):\n",
    "        self.name=name\n",
    "        self.age=age\n",
    "        "
   ]
  }
 ],
 "metadata": {
  "kernelspec": {
   "display_name": "Python 3 (ipykernel)",
   "language": "python",
   "name": "python3"
  },
  "language_info": {
   "codemirror_mode": {
    "name": "ipython",
    "version": 3
   },
   "file_extension": ".py",
   "mimetype": "text/x-python",
   "name": "python",
   "nbconvert_exporter": "python",
   "pygments_lexer": "ipython3",
   "version": "3.12.7"
  }
 },
 "nbformat": 4,
 "nbformat_minor": 5
}
