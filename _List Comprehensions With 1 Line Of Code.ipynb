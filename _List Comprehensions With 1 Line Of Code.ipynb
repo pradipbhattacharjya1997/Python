{
 "cells": [
  {
   "cell_type": "markdown",
   "id": "c1cc4a48-1529-438c-a459-3c1b37dc3886",
   "metadata": {},
   "source": [
    "python List Comprehension"
   ]
  },
  {
   "cell_type": "code",
   "execution_count": 1,
   "id": "08a4b030-ba60-4989-93a7-cde0f084d23b",
   "metadata": {},
   "outputs": [
    {
     "data": {
      "text/plain": [
       "list"
      ]
     },
     "execution_count": 1,
     "metadata": {},
     "output_type": "execute_result"
    }
   ],
   "source": [
    "type([1,2,3,4,5,5])"
   ]
  },
  {
   "cell_type": "code",
   "execution_count": 2,
   "id": "b594f828-8384-4663-a818-f69ef127a63d",
   "metadata": {},
   "outputs": [
    {
     "name": "stdout",
     "output_type": "stream",
     "text": [
      "[0, 1, 2, 3, 4, 5, 6, 7]\n"
     ]
    }
   ],
   "source": [
    "lst=[]\n",
    "for i in range(0,8):\n",
    "     lst.append(i)\n",
    "\n",
    "print(lst)\n"
   ]
  },
  {
   "cell_type": "code",
   "execution_count": 9,
   "id": "a5829092-7fbf-4184-a052-b85568aeba8d",
   "metadata": {},
   "outputs": [
    {
     "name": "stdout",
     "output_type": "stream",
     "text": [
      "[1, 4, 9, 16, 25, 36]\n"
     ]
    }
   ],
   "source": [
    "lst=[1,2,3,4,5,6]\n",
    "lst2=[]\n",
    "for i in lst:\n",
    "    lst2.append(i**2)\n",
    "print(lst2)"
   ]
  },
  {
   "cell_type": "code",
   "execution_count": 11,
   "id": "4937d397-a19b-4089-935b-5cd07ca71037",
   "metadata": {},
   "outputs": [
    {
     "name": "stdout",
     "output_type": "stream",
     "text": [
      "[1, 4, 9, 16, 25]\n"
     ]
    }
   ],
   "source": [
    "numbers=[1,2,3,4,5]\n",
    "squard_numbers=[i**2 for i in numbers]\n",
    "print(squard_numbers)"
   ]
  },
  {
   "cell_type": "code",
   "execution_count": 13,
   "id": "f00b306e-950c-43d4-9cec-8ae7c8bf3f49",
   "metadata": {},
   "outputs": [
    {
     "name": "stdout",
     "output_type": "stream",
     "text": [
      "[2, 4, 6, 8, 10]\n"
     ]
    }
   ],
   "source": [
    "## Filtering even numbers from a list:\n",
    "numbers = [1,2,3,4,5,6,7,8,9,10]\n",
    "even_number=[n for n in numbers if n%2==0]\n",
    "print(even_number)"
   ]
  },
  {
   "cell_type": "code",
   "execution_count": 15,
   "id": "6491f248-6221-4afe-9597-3fe21b92d369",
   "metadata": {},
   "outputs": [
    {
     "name": "stdout",
     "output_type": "stream",
     "text": [
      "[1, 2, 3, 4, 5, 6, 7, 8, 9]\n"
     ]
    }
   ],
   "source": [
    "##Flattening a list of lists:\n",
    "lists =[[1,2,3], [4,5,6],[7,8,9]]\n",
    "flattend_list=[item for sublist in lists for item in sublist]\n",
    "print(flattend_list)"
   ]
  },
  {
   "cell_type": "code",
   "execution_count": 3,
   "id": "0ba8c426-d2d4-47e6-9dbd-5689fceed793",
   "metadata": {},
   "outputs": [
    {
     "name": "stdout",
     "output_type": "stream",
     "text": [
      "['a', 'b', 'c', 'd']\n"
     ]
    }
   ],
   "source": [
    "#Generating a list of the first letters of words in a list:\n",
    "words = ['apple','banana','cherry','date']\n",
    "first_letters=[word[0] for word in words]\n",
    "print(first_letters)"
   ]
  },
  {
   "cell_type": "code",
   "execution_count": 1,
   "id": "726c36d6-c08b-474c-97f8-7fcb10c7f9ae",
   "metadata": {},
   "outputs": [
    {
     "data": {
      "text/plain": [
       "[4, 16, 36, 64, 100]"
      ]
     },
     "execution_count": 1,
     "metadata": {},
     "output_type": "execute_result"
    }
   ],
   "source": [
    "##Generating a list of the squares of even numbers\n",
    "numbers = [1,2,3,4,5,6,7,8,9,10]\n",
    "[n**2 for n in numbers if n%2==0]"
   ]
  },
  {
   "cell_type": "code",
   "execution_count": 3,
   "id": "c17c4f76-c29e-4c6a-b2fa-7f281cd213ef",
   "metadata": {},
   "outputs": [
    {
     "data": {
      "text/plain": [
       "[1, 2, 3, 4, 5]"
      ]
     },
     "execution_count": 3,
     "metadata": {},
     "output_type": "execute_result"
    }
   ],
   "source": [
    "##Converting a list of strings to a list of integers\n",
    "string = ['1','2','3','4', '5']\n",
    "[int(s) for s in string]\n"
   ]
  },
  {
   "cell_type": "code",
   "execution_count": 4,
   "id": "b688e3ca-cf18-4d34-ae6c-a7f553b6e43b",
   "metadata": {},
   "outputs": [
    {
     "data": {
      "text/plain": [
       "[[1],\n",
       " [2],\n",
       " [3],\n",
       " [5],\n",
       " [8],\n",
       " [13],\n",
       " [21],\n",
       " [34],\n",
       " [55],\n",
       " [89],\n",
       " [144],\n",
       " [233],\n",
       " [377],\n",
       " [610],\n",
       " [987],\n",
       " [1597],\n",
       " [2584],\n",
       " [4181],\n",
       " [6765]]"
      ]
     },
     "execution_count": 4,
     "metadata": {},
     "output_type": "execute_result"
    }
   ],
   "source": [
    "## Generating a list of the Fibonacci sequence using a list comprehension\n",
    "fib = [0, 1, 1, 2, 3, 5, 8, 13, 21, 34, 55, 89, 144, 233, 377, 610, 987, 1597, 2584, 4181, 6765]\n",
    "\n",
    "[[fib[i-1]+fib[i-2]] for i in range(2,len(fib))]"
   ]
  },
  {
   "cell_type": "code",
   "execution_count": 5,
   "id": "4c417acd-f5c1-437f-b5ec-8a351a643f7c",
   "metadata": {},
   "outputs": [
    {
     "data": {
      "text/plain": [
       "[1, 2, 3, 4, 6, 9, 12, 18, 36]"
      ]
     },
     "execution_count": 5,
     "metadata": {},
     "output_type": "execute_result"
    }
   ],
   "source": [
    "##Generating a list of all the divisors of a number:\n",
    "\n",
    "number = 36\n",
    "[i for i in range(1,number+1) if number%i==0]"
   ]
  },
  {
   "cell_type": "code",
   "execution_count": null,
   "id": "6b7d37b6-5426-43b1-b162-322ff952b4d3",
   "metadata": {},
   "outputs": [],
   "source": []
  }
 ],
 "metadata": {
  "kernelspec": {
   "display_name": "Python 3 (ipykernel)",
   "language": "python",
   "name": "python3"
  },
  "language_info": {
   "codemirror_mode": {
    "name": "ipython",
    "version": 3
   },
   "file_extension": ".py",
   "mimetype": "text/x-python",
   "name": "python",
   "nbconvert_exporter": "python",
   "pygments_lexer": "ipython3",
   "version": "3.12.1"
  }
 },
 "nbformat": 4,
 "nbformat_minor": 5
}
