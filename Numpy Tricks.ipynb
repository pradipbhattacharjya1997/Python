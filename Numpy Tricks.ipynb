{
 "cells": [
  {
   "cell_type": "markdown",
   "id": "204f2336-8871-43dd-93b1-d94f25af06b5",
   "metadata": {},
   "source": [
    "np.sort"
   ]
  },
  {
   "cell_type": "markdown",
   "id": "cfc7b3ff-45a0-4b68-bf30-6651b781709b",
   "metadata": {},
   "source": [
    "Return a sorted copy of an array"
   ]
  },
  {
   "cell_type": "code",
   "execution_count": 2,
   "id": "6e577f27-f7bf-4288-94bc-7368f2f896f6",
   "metadata": {},
   "outputs": [
    {
     "data": {
      "text/plain": [
       "array([30, 80,  6, 43,  9, 52, 35, 44, 77, 88, 32, 17,  2, 82, 40])"
      ]
     },
     "execution_count": 2,
     "metadata": {},
     "output_type": "execute_result"
    }
   ],
   "source": [
    "#code\n",
    "import numpy as np\n",
    "a = np.random.randint(1,100,15)\n",
    "\n",
    "a"
   ]
  },
  {
   "cell_type": "code",
   "execution_count": 3,
   "id": "924bf594-49d9-41b5-8262-ff0c87d7f055",
   "metadata": {},
   "outputs": [
    {
     "data": {
      "text/plain": [
       "array([[23, 92, 71, 92],\n",
       "       [61, 99, 95, 57],\n",
       "       [41, 58, 65, 28],\n",
       "       [99, 86, 44, 48],\n",
       "       [22, 93, 39, 27],\n",
       "       [83, 53, 12, 70]])"
      ]
     },
     "execution_count": 3,
     "metadata": {},
     "output_type": "execute_result"
    }
   ],
   "source": [
    "b = np. random.randint(1,100,24).reshape(6,4)\n",
    "b"
   ]
  },
  {
   "cell_type": "code",
   "execution_count": 3,
   "id": "80e64c67-3462-4385-b652-1eea007488d2",
   "metadata": {},
   "outputs": [
    {
     "data": {
      "text/plain": [
       "array([ 6, 16, 27, 35, 36, 40, 45, 48, 49, 63, 71, 76, 76, 95, 96])"
      ]
     },
     "execution_count": 3,
     "metadata": {},
     "output_type": "execute_result"
    }
   ],
   "source": [
    "# ascending\n",
    "np.sort(a)"
   ]
  },
  {
   "cell_type": "code",
   "execution_count": 6,
   "id": "df2fda40-c832-4f4f-bcd4-7d2fe461f7cb",
   "metadata": {},
   "outputs": [
    {
     "data": {
      "text/plain": [
       "array([96, 95, 76, 76, 71, 63, 49, 48, 45, 40, 36, 35, 27, 16,  6])"
      ]
     },
     "execution_count": 6,
     "metadata": {},
     "output_type": "execute_result"
    }
   ],
   "source": [
    "# deciding\n",
    "np.sort(a)[::-1]"
   ]
  },
  {
   "cell_type": "code",
   "execution_count": 4,
   "id": "0249e42b-cd2b-4ca0-a720-5f5e9a358e9d",
   "metadata": {},
   "outputs": [
    {
     "data": {
      "text/plain": [
       "array([[36,  5, 17, 15],\n",
       "       [56, 10, 41, 16],\n",
       "       [80, 27, 49, 27],\n",
       "       [83, 66, 59, 36],\n",
       "       [84, 82, 75, 46],\n",
       "       [91, 97, 80, 56]])"
      ]
     },
     "execution_count": 4,
     "metadata": {},
     "output_type": "execute_result"
    }
   ],
   "source": [
    "np.sort(b,axis=0)"
   ]
  },
  {
   "cell_type": "code",
   "execution_count": 5,
   "id": "bb6ffdf6-82b7-4c0f-bf3d-68fbb484abe0",
   "metadata": {},
   "outputs": [
    {
     "data": {
      "text/plain": [
       "array([[10, 46, 80, 84],\n",
       "       [27, 41, 56, 66],\n",
       "       [36, 59, 80, 82],\n",
       "       [ 5, 15, 36, 75],\n",
       "       [16, 27, 49, 91],\n",
       "       [17, 56, 83, 97]])"
      ]
     },
     "execution_count": 5,
     "metadata": {},
     "output_type": "execute_result"
    }
   ],
   "source": [
    "np.sort(b,axis=1)"
   ]
  },
  {
   "cell_type": "markdown",
   "id": "3acc604a-8d42-4ed0-91c7-aafa22ebf745",
   "metadata": {},
   "source": [
    "np.append"
   ]
  },
  {
   "cell_type": "code",
   "execution_count": 7,
   "id": "a84b00fb-c3ea-406b-9d07-0170b2ecf8b9",
   "metadata": {},
   "outputs": [
    {
     "data": {
      "text/plain": [
       "array([27, 36, 63, 40, 49, 76, 45, 48, 76,  6, 35, 96, 95, 16, 71])"
      ]
     },
     "execution_count": 7,
     "metadata": {},
     "output_type": "execute_result"
    }
   ],
   "source": [
    "a"
   ]
  },
  {
   "cell_type": "code",
   "execution_count": 8,
   "id": "06e5b244-8f70-40dd-9f24-2d49d61c1090",
   "metadata": {},
   "outputs": [
    {
     "data": {
      "text/plain": [
       "array([ 27,  36,  63,  40,  49,  76,  45,  48,  76,   6,  35,  96,  95,\n",
       "        16,  71, 200])"
      ]
     },
     "execution_count": 8,
     "metadata": {},
     "output_type": "execute_result"
    }
   ],
   "source": [
    "np.append(a,200)"
   ]
  },
  {
   "cell_type": "code",
   "execution_count": 9,
   "id": "fc2019fc-f3d9-4567-a652-ef443e75c6b6",
   "metadata": {},
   "outputs": [
    {
     "data": {
      "text/plain": [
       "array([[84, 10, 80, 46],\n",
       "       [56, 66, 41, 27],\n",
       "       [80, 82, 59, 36],\n",
       "       [36,  5, 75, 15],\n",
       "       [91, 27, 49, 16],\n",
       "       [83, 97, 17, 56]])"
      ]
     },
     "execution_count": 9,
     "metadata": {},
     "output_type": "execute_result"
    }
   ],
   "source": [
    "b"
   ]
  },
  {
   "cell_type": "code",
   "execution_count": 11,
   "id": "34b56797-d358-4a23-a092-bf3d2c984bba",
   "metadata": {},
   "outputs": [
    {
     "data": {
      "text/plain": [
       "array([[84., 10., 80., 46.,  1.],\n",
       "       [56., 66., 41., 27.,  1.],\n",
       "       [80., 82., 59., 36.,  1.],\n",
       "       [36.,  5., 75., 15.,  1.],\n",
       "       [91., 27., 49., 16.,  1.],\n",
       "       [83., 97., 17., 56.,  1.]])"
      ]
     },
     "execution_count": 11,
     "metadata": {},
     "output_type": "execute_result"
    }
   ],
   "source": [
    "np.append(b,np.ones((b.shape[0],1)),axis=1)"
   ]
  },
  {
   "cell_type": "markdown",
   "id": "8e1e8d13-b691-41bc-93f8-f888c96e1877",
   "metadata": {},
   "source": [
    "np.concatenate"
   ]
  },
  {
   "cell_type": "code",
   "execution_count": 12,
   "id": "2542dc01-59ff-415e-ab27-77bf518a0481",
   "metadata": {},
   "outputs": [
    {
     "name": "stdout",
     "output_type": "stream",
     "text": [
      "[[0 1 2]\n",
      " [3 4 5]]\n",
      "[[ 6  7  8]\n",
      " [ 9 10 11]]\n"
     ]
    }
   ],
   "source": [
    "c = np.arange(6).reshape(2,3)\n",
    "d = np.arange(6,12).reshape(2,3)\n",
    "\n",
    "print(c)\n",
    "print(d)"
   ]
  },
  {
   "cell_type": "code",
   "execution_count": 13,
   "id": "8fe71ebe-3574-40a7-a1a9-ee01746e6855",
   "metadata": {},
   "outputs": [
    {
     "data": {
      "text/plain": [
       "array([[ 0,  1,  2],\n",
       "       [ 3,  4,  5],\n",
       "       [ 6,  7,  8],\n",
       "       [ 9, 10, 11]])"
      ]
     },
     "execution_count": 13,
     "metadata": {},
     "output_type": "execute_result"
    }
   ],
   "source": [
    "np.concatenate((c,d),axis=0)"
   ]
  },
  {
   "cell_type": "code",
   "execution_count": 16,
   "id": "88c564b3-aba7-4fad-a4f4-fdd68c31dd7a",
   "metadata": {},
   "outputs": [
    {
     "data": {
      "text/plain": [
       "array([[ 0,  1,  2,  6,  7,  8],\n",
       "       [ 3,  4,  5,  9, 10, 11]])"
      ]
     },
     "execution_count": 16,
     "metadata": {},
     "output_type": "execute_result"
    }
   ],
   "source": [
    "np.concatenate((c,d),axis=1)"
   ]
  },
  {
   "cell_type": "markdown",
   "id": "d74b60bd-8789-472e-af87-5aa6e12c10ae",
   "metadata": {},
   "source": [
    "np.unique"
   ]
  },
  {
   "cell_type": "code",
   "execution_count": 17,
   "id": "1879924f-7363-4865-807f-97dea6577049",
   "metadata": {},
   "outputs": [],
   "source": [
    "e = np.array([1,1,2,2,3,3,4,4,5,5,6,6])"
   ]
  },
  {
   "cell_type": "code",
   "execution_count": 18,
   "id": "40cddf01-cc3b-41cf-9e42-a569341aeca6",
   "metadata": {},
   "outputs": [
    {
     "data": {
      "text/plain": [
       "array([1, 2, 3, 4, 5, 6])"
      ]
     },
     "execution_count": 18,
     "metadata": {},
     "output_type": "execute_result"
    }
   ],
   "source": [
    "np.unique(e)"
   ]
  },
  {
   "cell_type": "markdown",
   "id": "67260a27-2e7b-4ed3-83f4-7ef0ad3a9526",
   "metadata": {},
   "source": [
    "np.expand_dims"
   ]
  },
  {
   "cell_type": "code",
   "execution_count": 19,
   "id": "e46bf608-bf36-460e-8d66-e432e9a7ec66",
   "metadata": {},
   "outputs": [
    {
     "data": {
      "text/plain": [
       "array([27, 36, 63, 40, 49, 76, 45, 48, 76,  6, 35, 96, 95, 16, 71])"
      ]
     },
     "execution_count": 19,
     "metadata": {},
     "output_type": "execute_result"
    }
   ],
   "source": [
    "a"
   ]
  },
  {
   "cell_type": "code",
   "execution_count": 21,
   "id": "6872110f-0cca-4da2-9556-d23fef460b12",
   "metadata": {},
   "outputs": [
    {
     "data": {
      "text/plain": [
       "(15,)"
      ]
     },
     "execution_count": 21,
     "metadata": {},
     "output_type": "execute_result"
    }
   ],
   "source": [
    "a.shape"
   ]
  },
  {
   "cell_type": "code",
   "execution_count": 20,
   "id": "9c718fba-27ef-4664-97e2-293feb24d982",
   "metadata": {},
   "outputs": [
    {
     "data": {
      "text/plain": [
       "array([[27, 36, 63, 40, 49, 76, 45, 48, 76,  6, 35, 96, 95, 16, 71]])"
      ]
     },
     "execution_count": 20,
     "metadata": {},
     "output_type": "execute_result"
    }
   ],
   "source": [
    "np.expand_dims(a,axis=0)"
   ]
  },
  {
   "cell_type": "code",
   "execution_count": 22,
   "id": "f8aa3c16-f32a-457d-9474-f6f94f63a803",
   "metadata": {},
   "outputs": [
    {
     "data": {
      "text/plain": [
       "(1, 15)"
      ]
     },
     "execution_count": 22,
     "metadata": {},
     "output_type": "execute_result"
    }
   ],
   "source": [
    "np.expand_dims(a,axis=0).shape"
   ]
  },
  {
   "cell_type": "code",
   "execution_count": 23,
   "id": "7a9efc3c-f92c-43bb-8d0b-2cffa8c66665",
   "metadata": {},
   "outputs": [
    {
     "data": {
      "text/plain": [
       "array([[27],\n",
       "       [36],\n",
       "       [63],\n",
       "       [40],\n",
       "       [49],\n",
       "       [76],\n",
       "       [45],\n",
       "       [48],\n",
       "       [76],\n",
       "       [ 6],\n",
       "       [35],\n",
       "       [96],\n",
       "       [95],\n",
       "       [16],\n",
       "       [71]])"
      ]
     },
     "execution_count": 23,
     "metadata": {},
     "output_type": "execute_result"
    }
   ],
   "source": [
    "np.expand_dims(a,axis=1)"
   ]
  },
  {
   "cell_type": "markdown",
   "id": "8fe36b7e-1885-4a48-a8d9-cf940f1df47e",
   "metadata": {},
   "source": [
    "np.where"
   ]
  },
  {
   "cell_type": "code",
   "execution_count": 24,
   "id": "bf918abb-bd64-4ce6-91e7-db37119b862d",
   "metadata": {},
   "outputs": [
    {
     "data": {
      "text/plain": [
       "array([27, 36, 63, 40, 49, 76, 45, 48, 76,  6, 35, 96, 95, 16, 71])"
      ]
     },
     "execution_count": 24,
     "metadata": {},
     "output_type": "execute_result"
    }
   ],
   "source": [
    "a"
   ]
  },
  {
   "cell_type": "code",
   "execution_count": 25,
   "id": "b4526d8f-1729-4741-8c94-a2a57ac84c50",
   "metadata": {},
   "outputs": [
    {
     "data": {
      "text/plain": [
       "(array([ 2,  5,  8, 11, 12, 14], dtype=int64),)"
      ]
     },
     "execution_count": 25,
     "metadata": {},
     "output_type": "execute_result"
    }
   ],
   "source": [
    "# find all indices with value greater then 50\n",
    "np.where(a>50)"
   ]
  },
  {
   "cell_type": "code",
   "execution_count": 26,
   "id": "caa7e1f6-835c-4d4f-b61e-4911b10252c0",
   "metadata": {},
   "outputs": [
    {
     "data": {
      "text/plain": [
       "array([27, 36,  0, 40, 49,  0, 45, 48,  0,  6, 35,  0,  0, 16,  0])"
      ]
     },
     "execution_count": 26,
     "metadata": {},
     "output_type": "execute_result"
    }
   ],
   "source": [
    "#replace all values > 50 with 0\n",
    "# np.where(condition,true,false)\n",
    "np.where(a>50,0,a)"
   ]
  },
  {
   "cell_type": "code",
   "execution_count": 27,
   "id": "36c9104b-d68b-450c-b4d8-978b31e6169f",
   "metadata": {},
   "outputs": [
    {
     "data": {
      "text/plain": [
       "array([27,  0, 63,  0, 49,  0, 45,  0,  0,  0, 35,  0, 95,  0, 71])"
      ]
     },
     "execution_count": 27,
     "metadata": {},
     "output_type": "execute_result"
    }
   ],
   "source": [
    "np.where(a%2 == 0,0,a)"
   ]
  },
  {
   "cell_type": "markdown",
   "id": "9064fbd5-d96e-49a1-9442-b0af310b911a",
   "metadata": {},
   "source": [
    "np.argmax"
   ]
  },
  {
   "cell_type": "code",
   "execution_count": 28,
   "id": "f2af4ea1-bee9-443a-89db-c1a66c889cb2",
   "metadata": {},
   "outputs": [
    {
     "data": {
      "text/plain": [
       "array([27, 36, 63, 40, 49, 76, 45, 48, 76,  6, 35, 96, 95, 16, 71])"
      ]
     },
     "execution_count": 28,
     "metadata": {},
     "output_type": "execute_result"
    }
   ],
   "source": [
    "a"
   ]
  },
  {
   "cell_type": "code",
   "execution_count": 29,
   "id": "761da44f-b909-45bf-92d9-d67f0b97dc65",
   "metadata": {},
   "outputs": [
    {
     "data": {
      "text/plain": [
       "11"
      ]
     },
     "execution_count": 29,
     "metadata": {},
     "output_type": "execute_result"
    }
   ],
   "source": [
    "np.argmax(a)"
   ]
  },
  {
   "cell_type": "code",
   "execution_count": 30,
   "id": "ab1f80f5-ea47-46f2-a30f-827c14a269bd",
   "metadata": {},
   "outputs": [
    {
     "data": {
      "text/plain": [
       "array([[84, 10, 80, 46],\n",
       "       [56, 66, 41, 27],\n",
       "       [80, 82, 59, 36],\n",
       "       [36,  5, 75, 15],\n",
       "       [91, 27, 49, 16],\n",
       "       [83, 97, 17, 56]])"
      ]
     },
     "execution_count": 30,
     "metadata": {},
     "output_type": "execute_result"
    }
   ],
   "source": [
    "b"
   ]
  },
  {
   "cell_type": "code",
   "execution_count": 33,
   "id": "35bf5f45-eef8-4703-a19d-23db0c244e3b",
   "metadata": {},
   "outputs": [
    {
     "data": {
      "text/plain": [
       "array([0, 1, 1, 2, 0, 1], dtype=int64)"
      ]
     },
     "execution_count": 33,
     "metadata": {},
     "output_type": "execute_result"
    }
   ],
   "source": [
    "np.argmax(b,axis=1)"
   ]
  },
  {
   "cell_type": "code",
   "execution_count": 34,
   "id": "c12add45-f89e-48a4-805a-4988e6b2ac40",
   "metadata": {},
   "outputs": [
    {
     "data": {
      "text/plain": [
       "array([4, 5, 0, 5], dtype=int64)"
      ]
     },
     "execution_count": 34,
     "metadata": {},
     "output_type": "execute_result"
    }
   ],
   "source": [
    "np.argmax(b,axis=0)"
   ]
  },
  {
   "cell_type": "markdown",
   "id": "21f93b45-2609-4880-96a3-be78f8d517db",
   "metadata": {},
   "source": [
    "np.argmin"
   ]
  },
  {
   "cell_type": "code",
   "execution_count": 35,
   "id": "aedac919-b8a3-44b6-b689-62ca312c18bd",
   "metadata": {},
   "outputs": [
    {
     "data": {
      "text/plain": [
       "array([27, 36, 63, 40, 49, 76, 45, 48, 76,  6, 35, 96, 95, 16, 71])"
      ]
     },
     "execution_count": 35,
     "metadata": {},
     "output_type": "execute_result"
    }
   ],
   "source": [
    "a"
   ]
  },
  {
   "cell_type": "code",
   "execution_count": 36,
   "id": "47640ca9-1ff7-40bc-8595-ea9841cbe41d",
   "metadata": {},
   "outputs": [
    {
     "data": {
      "text/plain": [
       "9"
      ]
     },
     "execution_count": 36,
     "metadata": {},
     "output_type": "execute_result"
    }
   ],
   "source": [
    "np.argmin(a)"
   ]
  },
  {
   "cell_type": "markdown",
   "id": "78403fd6-c138-4334-9dfe-93086c0343f2",
   "metadata": {},
   "source": [
    "np.cumsum"
   ]
  },
  {
   "cell_type": "code",
   "execution_count": 37,
   "id": "19b56357-5a1c-4717-9679-8220e446cdd3",
   "metadata": {},
   "outputs": [
    {
     "data": {
      "text/plain": [
       "array([27, 36, 63, 40, 49, 76, 45, 48, 76,  6, 35, 96, 95, 16, 71])"
      ]
     },
     "execution_count": 37,
     "metadata": {},
     "output_type": "execute_result"
    }
   ],
   "source": [
    "a"
   ]
  },
  {
   "cell_type": "code",
   "execution_count": 38,
   "id": "70fddc97-2515-4fd9-b63a-fe1d9cf0b355",
   "metadata": {},
   "outputs": [
    {
     "data": {
      "text/plain": [
       "array([ 27,  63, 126, 166, 215, 291, 336, 384, 460, 466, 501, 597, 692,\n",
       "       708, 779])"
      ]
     },
     "execution_count": 38,
     "metadata": {},
     "output_type": "execute_result"
    }
   ],
   "source": [
    "np.cumsum(a)"
   ]
  },
  {
   "cell_type": "code",
   "execution_count": 39,
   "id": "46c28523-540a-4cdb-a20f-a669d3a54c0c",
   "metadata": {},
   "outputs": [
    {
     "data": {
      "text/plain": [
       "array([[84, 10, 80, 46],\n",
       "       [56, 66, 41, 27],\n",
       "       [80, 82, 59, 36],\n",
       "       [36,  5, 75, 15],\n",
       "       [91, 27, 49, 16],\n",
       "       [83, 97, 17, 56]])"
      ]
     },
     "execution_count": 39,
     "metadata": {},
     "output_type": "execute_result"
    }
   ],
   "source": [
    "b"
   ]
  },
  {
   "cell_type": "code",
   "execution_count": 41,
   "id": "e8f1c2c9-622b-49bf-838c-62db89c4ad74",
   "metadata": {},
   "outputs": [
    {
     "data": {
      "text/plain": [
       "array([[ 84,  10,  80,  46],\n",
       "       [140,  76, 121,  73],\n",
       "       [220, 158, 180, 109],\n",
       "       [256, 163, 255, 124],\n",
       "       [347, 190, 304, 140],\n",
       "       [430, 287, 321, 196]])"
      ]
     },
     "execution_count": 41,
     "metadata": {},
     "output_type": "execute_result"
    }
   ],
   "source": [
    "np.cumsum(b,axis = 0)"
   ]
  },
  {
   "cell_type": "code",
   "execution_count": 42,
   "id": "7b1261b3-cfa7-4abc-b5af-f0ba4ffb74b9",
   "metadata": {},
   "outputs": [
    {
     "data": {
      "text/plain": [
       "array([[ 84,  94, 174, 220],\n",
       "       [ 56, 122, 163, 190],\n",
       "       [ 80, 162, 221, 257],\n",
       "       [ 36,  41, 116, 131],\n",
       "       [ 91, 118, 167, 183],\n",
       "       [ 83, 180, 197, 253]])"
      ]
     },
     "execution_count": 42,
     "metadata": {},
     "output_type": "execute_result"
    }
   ],
   "source": [
    "np.cumsum(b,axis = 1)"
   ]
  },
  {
   "cell_type": "code",
   "execution_count": 40,
   "id": "a104886f-3077-4c71-9f29-69cdcb6f6478",
   "metadata": {},
   "outputs": [
    {
     "data": {
      "text/plain": [
       "array([  84,   94,  174,  220,  276,  342,  383,  410,  490,  572,  631,\n",
       "        667,  703,  708,  783,  798,  889,  916,  965,  981, 1064, 1161,\n",
       "       1178, 1234])"
      ]
     },
     "execution_count": 40,
     "metadata": {},
     "output_type": "execute_result"
    }
   ],
   "source": [
    "np.cumsum(b)"
   ]
  },
  {
   "cell_type": "markdown",
   "id": "6863ecd9-def0-40c2-8469-23eb41d25cd9",
   "metadata": {},
   "source": [
    "np.cumprod"
   ]
  },
  {
   "cell_type": "code",
   "execution_count": 43,
   "id": "5e1983c0-78e3-4ace-901b-6d33971903c7",
   "metadata": {},
   "outputs": [
    {
     "data": {
      "text/plain": [
       "array([27, 36, 63, 40, 49, 76, 45, 48, 76,  6, 35, 96, 95, 16, 71])"
      ]
     },
     "execution_count": 43,
     "metadata": {},
     "output_type": "execute_result"
    }
   ],
   "source": [
    "a"
   ]
  },
  {
   "cell_type": "code",
   "execution_count": 44,
   "id": "1d2dd6f8-21d1-4173-8da5-3ce608c4914a",
   "metadata": {},
   "outputs": [
    {
     "data": {
      "text/plain": [
       "array([         27,         972,       61236,     2449440,   120022560,\n",
       "         531779968, -1839705216,  1888462848,  1789255680,  2145599488,\n",
       "        2081538048, -2035810304,  -128450560, -2055208960,   109051904])"
      ]
     },
     "execution_count": 44,
     "metadata": {},
     "output_type": "execute_result"
    }
   ],
   "source": [
    "np.cumprod(a)"
   ]
  },
  {
   "cell_type": "code",
   "execution_count": 45,
   "id": "1d46bc19-57f3-40af-b794-2b8032d7e330",
   "metadata": {},
   "outputs": [
    {
     "data": {
      "text/plain": [
       "array([[84, 10, 80, 46],\n",
       "       [56, 66, 41, 27],\n",
       "       [80, 82, 59, 36],\n",
       "       [36,  5, 75, 15],\n",
       "       [91, 27, 49, 16],\n",
       "       [83, 97, 17, 56]])"
      ]
     },
     "execution_count": 45,
     "metadata": {},
     "output_type": "execute_result"
    }
   ],
   "source": [
    "b"
   ]
  },
  {
   "cell_type": "code",
   "execution_count": 46,
   "id": "4a6c9d86-673d-4209-ade2-ca1ba3d4ea7c",
   "metadata": {},
   "outputs": [
    {
     "data": {
      "text/plain": [
       "array([[      84,      840,    67200,  3091200],\n",
       "       [      56,     3696,   151536,  4091472],\n",
       "       [      80,     6560,   387040, 13933440],\n",
       "       [      36,      180,    13500,   202500],\n",
       "       [      91,     2457,   120393,  1926288],\n",
       "       [      83,     8051,   136867,  7664552]])"
      ]
     },
     "execution_count": 46,
     "metadata": {},
     "output_type": "execute_result"
    }
   ],
   "source": [
    "np.cumprod(b,axis = 1)"
   ]
  },
  {
   "cell_type": "code",
   "execution_count": 47,
   "id": "776d9cdc-cfc8-4a88-9651-5f6a7734b631",
   "metadata": {},
   "outputs": [
    {
     "data": {
      "text/plain": [
       "array([[        84,         10,         80,         46],\n",
       "       [      4704,        660,       3280,       1242],\n",
       "       [    376320,      54120,     193520,      44712],\n",
       "       [  13547520,     270600,   14514000,     670680],\n",
       "       [1232824320,    7306200,  711186000,   10730880],\n",
       "       [-754796544,  708701400, -794739888,  600929280]])"
      ]
     },
     "execution_count": 47,
     "metadata": {},
     "output_type": "execute_result"
    }
   ],
   "source": [
    "np.cumprod(b,axis =0)"
   ]
  },
  {
   "cell_type": "markdown",
   "id": "3673d9b5-87a8-4926-9eb1-d80103ea1d1e",
   "metadata": {},
   "source": [
    "np.percentile"
   ]
  },
  {
   "cell_type": "code",
   "execution_count": 48,
   "id": "be5e84fd-9a27-435d-a60a-701866b4b553",
   "metadata": {},
   "outputs": [
    {
     "data": {
      "text/plain": [
       "array([27, 36, 63, 40, 49, 76, 45, 48, 76,  6, 35, 96, 95, 16, 71])"
      ]
     },
     "execution_count": 48,
     "metadata": {},
     "output_type": "execute_result"
    }
   ],
   "source": [
    "a"
   ]
  },
  {
   "cell_type": "code",
   "execution_count": 49,
   "id": "32a3830d-0493-4b75-bc4a-42ae6f361d82",
   "metadata": {},
   "outputs": [
    {
     "data": {
      "text/plain": [
       "96.0"
      ]
     },
     "execution_count": 49,
     "metadata": {},
     "output_type": "execute_result"
    }
   ],
   "source": [
    "np.percentile(a,100)"
   ]
  },
  {
   "cell_type": "code",
   "execution_count": 50,
   "id": "90fd7167-5870-4aae-89cb-1d7830a2bd5a",
   "metadata": {},
   "outputs": [
    {
     "data": {
      "text/plain": [
       "6.0"
      ]
     },
     "execution_count": 50,
     "metadata": {},
     "output_type": "execute_result"
    }
   ],
   "source": [
    "np.percentile(a,0)"
   ]
  },
  {
   "cell_type": "code",
   "execution_count": 51,
   "id": "fc9cc7a7-eb67-4bfb-af59-ab63525c6e08",
   "metadata": {},
   "outputs": [
    {
     "data": {
      "text/plain": [
       "48.0"
      ]
     },
     "execution_count": 51,
     "metadata": {},
     "output_type": "execute_result"
    }
   ],
   "source": [
    "np.percentile(a,50)"
   ]
  },
  {
   "cell_type": "code",
   "execution_count": 52,
   "id": "a35bea48-7862-485a-9bc8-3971757f05dd",
   "metadata": {},
   "outputs": [
    {
     "data": {
      "text/plain": [
       "array([[84, 10, 80, 46],\n",
       "       [56, 66, 41, 27],\n",
       "       [80, 82, 59, 36],\n",
       "       [36,  5, 75, 15],\n",
       "       [91, 27, 49, 16],\n",
       "       [83, 97, 17, 56]])"
      ]
     },
     "execution_count": 52,
     "metadata": {},
     "output_type": "execute_result"
    }
   ],
   "source": [
    "b"
   ]
  },
  {
   "cell_type": "code",
   "execution_count": 53,
   "id": "2328cc48-e438-4111-8c9e-d6060d6cadae",
   "metadata": {},
   "outputs": [
    {
     "data": {
      "text/plain": [
       "array([91., 97., 80., 56.])"
      ]
     },
     "execution_count": 53,
     "metadata": {},
     "output_type": "execute_result"
    }
   ],
   "source": [
    "np.percentile(b,100,axis =0)"
   ]
  },
  {
   "cell_type": "code",
   "execution_count": 54,
   "id": "bcd76786-4f5e-44c5-a39d-c0c46d7b9fab",
   "metadata": {},
   "outputs": [
    {
     "data": {
      "text/plain": [
       "array([84., 66., 82., 75., 91., 97.])"
      ]
     },
     "execution_count": 54,
     "metadata": {},
     "output_type": "execute_result"
    }
   ],
   "source": [
    "np.percentile(b,100,axis =1)"
   ]
  },
  {
   "cell_type": "markdown",
   "id": "37f76c5c-f809-41c7-b8d9-cc369a1f3290",
   "metadata": {},
   "source": [
    "np.histogram"
   ]
  },
  {
   "cell_type": "code",
   "execution_count": 55,
   "id": "1a5470ff-1a94-42fd-b034-c2135ca2a833",
   "metadata": {},
   "outputs": [
    {
     "data": {
      "text/plain": [
       "array([27, 36, 63, 40, 49, 76, 45, 48, 76,  6, 35, 96, 95, 16, 71])"
      ]
     },
     "execution_count": 55,
     "metadata": {},
     "output_type": "execute_result"
    }
   ],
   "source": [
    "a"
   ]
  },
  {
   "cell_type": "code",
   "execution_count": 56,
   "id": "63e409cf-1542-4008-9c81-ca23dbf2172d",
   "metadata": {},
   "outputs": [
    {
     "data": {
      "text/plain": [
       "(array([1, 1, 1, 2, 4, 0, 1, 3, 0, 2], dtype=int64),\n",
       " array([  0,  10,  20,  30,  40,  50,  60,  70,  80,  90, 100]))"
      ]
     },
     "execution_count": 56,
     "metadata": {},
     "output_type": "execute_result"
    }
   ],
   "source": [
    "np.histogram(a,bins=[0,10,20,30,40,50,60,70,80,90,100])"
   ]
  },
  {
   "cell_type": "markdown",
   "id": "30375e41-5c6c-4ef8-bc5f-447caf42113c",
   "metadata": {},
   "source": [
    "np.corrcoef"
   ]
  },
  {
   "cell_type": "code",
   "execution_count": 57,
   "id": "4510e27d-182c-4f3d-ae39-30f8dbbb054c",
   "metadata": {},
   "outputs": [
    {
     "data": {
      "text/plain": [
       "array([[1.        , 0.25344572],\n",
       "       [0.25344572, 1.        ]])"
      ]
     },
     "execution_count": 57,
     "metadata": {},
     "output_type": "execute_result"
    }
   ],
   "source": [
    "salary = np.array([20000,40000,25000,35000,60000])\n",
    "experience = np.array([1,3,2,4,2])\n",
    "\n",
    "np.corrcoef(salary,experience)"
   ]
  },
  {
   "cell_type": "markdown",
   "id": "00251285-18bd-4fd6-af64-f04c4ac3839f",
   "metadata": {},
   "source": [
    "np.isin"
   ]
  },
  {
   "cell_type": "code",
   "execution_count": 58,
   "id": "d48a40f7-4915-4f2c-8de3-a5d687edbed8",
   "metadata": {},
   "outputs": [
    {
     "data": {
      "text/plain": [
       "array([27, 36, 63, 40, 49, 76, 45, 48, 76,  6, 35, 96, 95, 16, 71])"
      ]
     },
     "execution_count": 58,
     "metadata": {},
     "output_type": "execute_result"
    }
   ],
   "source": [
    "a"
   ]
  },
  {
   "cell_type": "code",
   "execution_count": 59,
   "id": "4c3805f1-4c69-41d4-80f8-fd7cd73cbfe5",
   "metadata": {},
   "outputs": [
    {
     "data": {
      "text/plain": [
       "array([False, False, False,  True, False, False, False, False, False,\n",
       "       False, False, False, False, False, False])"
      ]
     },
     "execution_count": 59,
     "metadata": {},
     "output_type": "execute_result"
    }
   ],
   "source": [
    "items = [10,20,30,40,50,60,70,80,90,100]\n",
    "np.isin(a,items)"
   ]
  },
  {
   "cell_type": "code",
   "execution_count": 60,
   "id": "42abf769-407b-49db-a941-9001a8eadd54",
   "metadata": {},
   "outputs": [
    {
     "data": {
      "text/plain": [
       "array([40])"
      ]
     },
     "execution_count": 60,
     "metadata": {},
     "output_type": "execute_result"
    }
   ],
   "source": [
    "a[np.isin(a,items)]"
   ]
  },
  {
   "cell_type": "markdown",
   "id": "4fc14e08-d85e-483a-a98a-b580ddcd5523",
   "metadata": {},
   "source": [
    "np.flip"
   ]
  },
  {
   "cell_type": "code",
   "execution_count": 61,
   "id": "df7995da-298a-408e-9ad4-5e9fc3d9498a",
   "metadata": {},
   "outputs": [
    {
     "data": {
      "text/plain": [
       "array([27, 36, 63, 40, 49, 76, 45, 48, 76,  6, 35, 96, 95, 16, 71])"
      ]
     },
     "execution_count": 61,
     "metadata": {},
     "output_type": "execute_result"
    }
   ],
   "source": [
    "a"
   ]
  },
  {
   "cell_type": "code",
   "execution_count": 62,
   "id": "d9774989-e2ed-48d7-98b2-8e88d4b32982",
   "metadata": {},
   "outputs": [
    {
     "data": {
      "text/plain": [
       "array([71, 16, 95, 96, 35,  6, 76, 48, 45, 76, 49, 40, 63, 36, 27])"
      ]
     },
     "execution_count": 62,
     "metadata": {},
     "output_type": "execute_result"
    }
   ],
   "source": [
    "np.flip(a)"
   ]
  },
  {
   "cell_type": "code",
   "execution_count": 63,
   "id": "28ee021f-10d7-49b2-831f-f36cfb4a5c98",
   "metadata": {},
   "outputs": [
    {
     "data": {
      "text/plain": [
       "array([[84, 10, 80, 46],\n",
       "       [56, 66, 41, 27],\n",
       "       [80, 82, 59, 36],\n",
       "       [36,  5, 75, 15],\n",
       "       [91, 27, 49, 16],\n",
       "       [83, 97, 17, 56]])"
      ]
     },
     "execution_count": 63,
     "metadata": {},
     "output_type": "execute_result"
    }
   ],
   "source": [
    "b"
   ]
  },
  {
   "cell_type": "code",
   "execution_count": 64,
   "id": "8fcbe211-7738-4f4e-b26a-2e987fabd4f0",
   "metadata": {},
   "outputs": [
    {
     "data": {
      "text/plain": [
       "array([[56, 17, 97, 83],\n",
       "       [16, 49, 27, 91],\n",
       "       [15, 75,  5, 36],\n",
       "       [36, 59, 82, 80],\n",
       "       [27, 41, 66, 56],\n",
       "       [46, 80, 10, 84]])"
      ]
     },
     "execution_count": 64,
     "metadata": {},
     "output_type": "execute_result"
    }
   ],
   "source": [
    "np.flip(b)"
   ]
  },
  {
   "cell_type": "code",
   "execution_count": 65,
   "id": "f39543d1-bc82-4398-8a82-c26926662f32",
   "metadata": {},
   "outputs": [
    {
     "data": {
      "text/plain": [
       "array([[83, 97, 17, 56],\n",
       "       [91, 27, 49, 16],\n",
       "       [36,  5, 75, 15],\n",
       "       [80, 82, 59, 36],\n",
       "       [56, 66, 41, 27],\n",
       "       [84, 10, 80, 46]])"
      ]
     },
     "execution_count": 65,
     "metadata": {},
     "output_type": "execute_result"
    }
   ],
   "source": [
    "np.flip(b,axis = 0)"
   ]
  },
  {
   "cell_type": "code",
   "execution_count": 66,
   "id": "804104f6-d3ad-4a0d-959c-97c8ecfda3a6",
   "metadata": {},
   "outputs": [
    {
     "data": {
      "text/plain": [
       "array([[46, 80, 10, 84],\n",
       "       [27, 41, 66, 56],\n",
       "       [36, 59, 82, 80],\n",
       "       [15, 75,  5, 36],\n",
       "       [16, 49, 27, 91],\n",
       "       [56, 17, 97, 83]])"
      ]
     },
     "execution_count": 66,
     "metadata": {},
     "output_type": "execute_result"
    }
   ],
   "source": [
    "np.flip(b,axis =1)"
   ]
  },
  {
   "cell_type": "markdown",
   "id": "74604abf-f854-49f6-bbff-b88681308f66",
   "metadata": {},
   "source": [
    "np.put"
   ]
  },
  {
   "cell_type": "code",
   "execution_count": 3,
   "id": "adf6fb80-f2ca-47a6-b6e1-cff492348a5b",
   "metadata": {},
   "outputs": [
    {
     "data": {
      "text/plain": [
       "array([76, 13, 91, 43, 35, 56, 51, 89, 70, 26, 51, 91, 92, 40, 72])"
      ]
     },
     "execution_count": 3,
     "metadata": {},
     "output_type": "execute_result"
    }
   ],
   "source": [
    "a"
   ]
  },
  {
   "cell_type": "code",
   "execution_count": 4,
   "id": "0bfcf1fa-8f1e-4312-95de-25d8f3c95989",
   "metadata": {},
   "outputs": [],
   "source": [
    "np.put(a,[0,1],[110,530])"
   ]
  },
  {
   "cell_type": "code",
   "execution_count": 5,
   "id": "43341d49-1508-4f77-851e-11e85bbbbf0d",
   "metadata": {},
   "outputs": [
    {
     "data": {
      "text/plain": [
       "array([110, 530,  91,  43,  35,  56,  51,  89,  70,  26,  51,  91,  92,\n",
       "        40,  72])"
      ]
     },
     "execution_count": 5,
     "metadata": {},
     "output_type": "execute_result"
    }
   ],
   "source": [
    "a"
   ]
  },
  {
   "cell_type": "markdown",
   "id": "ab1917fc-e80f-4673-b218-c38548af47ed",
   "metadata": {},
   "source": [
    "np.delete"
   ]
  },
  {
   "cell_type": "code",
   "execution_count": 8,
   "id": "ad2b4e18-d7ee-4c2b-97e9-9b21e29dd93a",
   "metadata": {},
   "outputs": [
    {
     "data": {
      "text/plain": [
       "array([110, 530,  91,  43,  35,  56,  51,  89,  70,  26,  51,  91,  92,\n",
       "        40,  72])"
      ]
     },
     "execution_count": 8,
     "metadata": {},
     "output_type": "execute_result"
    }
   ],
   "source": [
    "a"
   ]
  },
  {
   "cell_type": "code",
   "execution_count": 9,
   "id": "a22989b8-5e09-484f-8672-c8e77680320d",
   "metadata": {},
   "outputs": [
    {
     "data": {
      "text/plain": [
       "array([530,  91,  43,  35,  56,  51,  89,  70,  26,  51,  91,  92,  40,\n",
       "        72])"
      ]
     },
     "execution_count": 9,
     "metadata": {},
     "output_type": "execute_result"
    }
   ],
   "source": [
    "np.delete(a,0)"
   ]
  },
  {
   "cell_type": "code",
   "execution_count": 10,
   "id": "54c8a0a5-9650-4f58-8e22-dfc47124ae54",
   "metadata": {},
   "outputs": [
    {
     "data": {
      "text/plain": [
       "array([110, 530,  91,  43,  35,  56,  51,  89,  70,  26,  51,  91,  92,\n",
       "        40,  72])"
      ]
     },
     "execution_count": 10,
     "metadata": {},
     "output_type": "execute_result"
    }
   ],
   "source": [
    "a"
   ]
  },
  {
   "cell_type": "markdown",
   "id": "fd3c9103-b6e7-4acc-9d9a-cdf024c70f64",
   "metadata": {},
   "source": [
    "set functions"
   ]
  },
  {
   "cell_type": "code",
   "execution_count": 13,
   "id": "f77a100a-6bfb-4ed7-b115-87fa4795382d",
   "metadata": {},
   "outputs": [
    {
     "data": {
      "text/plain": [
       "array([1, 2, 3, 4, 5, 6, 7])"
      ]
     },
     "execution_count": 13,
     "metadata": {},
     "output_type": "execute_result"
    }
   ],
   "source": [
    "#np.union1d\n",
    "m = np.array([1,2,3,4,5])\n",
    "n = np.array([3,4,5,6,7])\n",
    "\n",
    "np.union1d(m,n)"
   ]
  },
  {
   "cell_type": "code",
   "execution_count": 15,
   "id": "4cbdccb8-1749-49ef-beb7-124b4b4e37f3",
   "metadata": {},
   "outputs": [
    {
     "data": {
      "text/plain": [
       "array([3, 4, 5])"
      ]
     },
     "execution_count": 15,
     "metadata": {},
     "output_type": "execute_result"
    }
   ],
   "source": [
    "# np.intersect1d\n",
    "np.intersect1d(m,n)"
   ]
  },
  {
   "cell_type": "code",
   "execution_count": 17,
   "id": "41d69bad-9d7c-48c6-b91e-b9d81a6d82f2",
   "metadata": {},
   "outputs": [
    {
     "data": {
      "text/plain": [
       "array([1, 2])"
      ]
     },
     "execution_count": 17,
     "metadata": {},
     "output_type": "execute_result"
    }
   ],
   "source": [
    "# np.setdiff1d\n",
    "np.setdiff1d(m,n)\n"
   ]
  },
  {
   "cell_type": "code",
   "execution_count": 18,
   "id": "47d49bcf-8275-488d-9939-b0c675929ce4",
   "metadata": {},
   "outputs": [
    {
     "data": {
      "text/plain": [
       "array([1, 2, 6, 7])"
      ]
     },
     "execution_count": 18,
     "metadata": {},
     "output_type": "execute_result"
    }
   ],
   "source": [
    "# np.setxor1d\n",
    "np.setxor1d(m,n)"
   ]
  },
  {
   "cell_type": "code",
   "execution_count": 19,
   "id": "c3a93ec1-06f1-4b33-ac7c-b09850742a6a",
   "metadata": {},
   "outputs": [
    {
     "data": {
      "text/plain": [
       "array([False, False, False, False, False])"
      ]
     },
     "execution_count": 19,
     "metadata": {},
     "output_type": "execute_result"
    }
   ],
   "source": [
    "# np.in1d\n",
    "np.in1d(m,10)"
   ]
  },
  {
   "cell_type": "markdown",
   "id": "607d0374-3b69-4ec1-b5b2-865c9c275af8",
   "metadata": {},
   "source": [
    "np.clip"
   ]
  },
  {
   "cell_type": "code",
   "execution_count": 4,
   "id": "0439a0b0-69eb-410c-9342-97faecec7aa7",
   "metadata": {},
   "outputs": [
    {
     "data": {
      "text/plain": [
       "array([30, 80,  6, 43,  9, 52, 35, 44, 77, 88, 32, 17,  2, 82, 40])"
      ]
     },
     "execution_count": 4,
     "metadata": {},
     "output_type": "execute_result"
    }
   ],
   "source": [
    "a"
   ]
  },
  {
   "cell_type": "code",
   "execution_count": 5,
   "id": "498f0218-3fe6-4781-9ef3-8c1713dfd7fc",
   "metadata": {},
   "outputs": [
    {
     "data": {
      "text/plain": [
       "array([30, 75, 25, 43, 25, 52, 35, 44, 75, 75, 32, 25, 25, 75, 40])"
      ]
     },
     "execution_count": 5,
     "metadata": {},
     "output_type": "execute_result"
    }
   ],
   "source": [
    "np.clip(a,a_min=25,a_max=75)"
   ]
  },
  {
   "cell_type": "code",
   "execution_count": null,
   "id": "9c4b6ba0-3af3-4356-a5eb-3f2a7c96b9d6",
   "metadata": {},
   "outputs": [],
   "source": []
  }
 ],
 "metadata": {
  "kernelspec": {
   "display_name": "Python 3 (ipykernel)",
   "language": "python",
   "name": "python3"
  },
  "language_info": {
   "codemirror_mode": {
    "name": "ipython",
    "version": 3
   },
   "file_extension": ".py",
   "mimetype": "text/x-python",
   "name": "python",
   "nbconvert_exporter": "python",
   "pygments_lexer": "ipython3",
   "version": "3.12.7"
  }
 },
 "nbformat": 4,
 "nbformat_minor": 5
}
